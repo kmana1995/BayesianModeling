{
 "cells": [
  {
   "cell_type": "code",
   "execution_count": 3,
   "metadata": {},
   "outputs": [],
   "source": [
    "import logging\n",
    "import os\n",
    "\n",
    "import torch\n",
    "import numpy as np\n",
    "import pandas as pd\n",
    "import seaborn as sns\n",
    "import matplotlib.pyplot as plt\n",
    "\n",
    "import pyro\n",
    "\n",
    "smoke_test = ('CI' in os.environ)\n",
    "assert pyro.__version__.startswith('1.8.1')\n",
    "\n",
    "pyro.enable_validation(True)\n",
    "pyro.set_rng_seed(1)\n",
    "logging.basicConfig(format='%(message)s', level=logging.INFO)\n",
    "\n",
    "# Set matplotlib settings\n",
    "%matplotlib inline\n",
    "plt.style.use('default')"
   ]
  },
  {
   "cell_type": "markdown",
   "metadata": {},
   "source": [
    "# Univariate Gaussian"
   ]
  },
  {
   "cell_type": "code",
   "execution_count": 4,
   "metadata": {},
   "outputs": [],
   "source": [
    "import pyro.distributions as dist\n",
    "import pyro.distributions.constraints as constraints\n",
    "\n",
    "loc = 5\n",
    "scale = 20\n",
    "data = torch.tensor(np.random.normal(loc=loc, scale=scale, size=1000))\n",
    "\n",
    "loc = 5\n",
    "scale = 20\n",
    "data = torch.tensor(np.random.normal(loc=loc, scale=scale, size=1000))\n",
    "\n",
    "def model(loc_prior_params, scale_prior_params, data):\n",
    "    loc = pyro.sample(\"loc\", dist.Normal(loc_prior_params[0], loc_prior_params[1]))\n",
    "    scale = pyro.sample(\"scale\", dist.Gamma(scale_prior_params[0], scale_prior_params[1]))\n",
    "    with pyro.plate(\"data\", 1000):\n",
    "        return pyro.sample(\"obs\", dist.Normal(loc, scale), obs=data)\n",
    "\n",
    "# pyro.render_model(model, model_args=([0.,4.], [1., 8.], data), render_params=True, render_distributions=True)"
   ]
  },
  {
   "cell_type": "code",
   "execution_count": 5,
   "metadata": {},
   "outputs": [],
   "source": [
    "def parametrised_guide(loc_prior_params, scale_prior_params, data):\n",
    "    mu_mu = pyro.param(\"mu_mu\", torch.tensor(float(loc_prior_params[0])))\n",
    "    \n",
    "    mu_std = pyro.param(\n",
    "        \"mu_std\", torch.tensor(float(loc_prior_params[1])), constraint=constraints.positive\n",
    "    )\n",
    "    \n",
    "    std_a = pyro.param(\n",
    "        \"std_a\", torch.tensor(scale_prior_params[0]), constraint=constraints.positive\n",
    "    )\n",
    "    \n",
    "    std_b = pyro.param(\n",
    "        \"std_b\", torch.tensor(scale_prior_params[1]), constraint=constraints.positive\n",
    "    )\n",
    "\n",
    "    loc = pyro.sample(\"loc\", dist.Normal(mu_mu, mu_std))\n",
    "    scale = pyro.sample(\"scale\", dist.Normal(std_a, std_b))\n",
    "    return pyro.sample(\"data_dist\", dist.Normal(loc, scale))"
   ]
  },
  {
   "cell_type": "markdown",
   "metadata": {},
   "source": [
    "### Train"
   ]
  },
  {
   "cell_type": "code",
   "execution_count": 6,
   "metadata": {},
   "outputs": [
    {
     "name": "stderr",
     "output_type": "stream",
     "text": [
      "C:\\Users\\ryant\\anaconda3\\lib\\site-packages\\pyro\\util.py:291: UserWarning: Found non-auxiliary vars in guide but not model, consider marking these infer={'is_auxiliary': True}:\n",
      "{'data_dist'}\n",
      "  guide_vars - aux_vars - model_vars\n",
      "Elbo loss: 6142.452677633746\n",
      "Elbo loss: 4472.90082233172\n",
      "Elbo loss: 4470.2476628203485\n",
      "Elbo loss: 4450.270240564545\n",
      "Elbo loss: 4450.7917282296585\n",
      "Elbo loss: 4449.99141985989\n",
      "Elbo loss: 4450.02951936009\n",
      "Elbo loss: 4450.813327689761\n",
      "Elbo loss: 4452.039200870926\n",
      "Elbo loss: 4450.092685545786\n"
     ]
    },
    {
     "name": "stdout",
     "output_type": "stream",
     "text": [
      "Wall time: 4.16 s\n"
     ]
    },
    {
     "data": {
      "text/plain": [
       "Text(0, 0.5, 'ELBO loss')"
      ]
     },
     "execution_count": 6,
     "metadata": {},
     "output_type": "execute_result"
    },
    {
     "data": {
      "image/png": "[encoded data removed]",
      "text/plain": [
       "<Figure size 500x200 with 1 Axes>"
      ]
     },
     "metadata": {},
     "output_type": "display_data"
    }
   ],
   "source": [
    "%%time\n",
    "pyro.clear_param_store()\n",
    "\n",
    "# These should be reset each training loop.\n",
    "svi = pyro.infer.SVI(\n",
    "    model=model,\n",
    "    guide=parametrised_guide,\n",
    "    optim=pyro.optim.Adam({\"lr\": 0.1}),\n",
    "    loss=pyro.infer.Trace_ELBO())\n",
    "\n",
    "losses = []\n",
    "for step in range(1000 if not smoke_test else 2):  # Consider running for more steps.\n",
    "    loss = svi.step([0,10], [8, 1], data)\n",
    "    losses.append(loss)\n",
    "    if step % 100 == 0:\n",
    "        logging.info(\"Elbo loss: {}\".format(loss))\n",
    "\n",
    "plt.figure(figsize=(5, 2))\n",
    "plt.plot(losses)\n",
    "plt.xlabel(\"SVI step\")\n",
    "plt.ylabel(\"ELBO loss\");"
   ]
  },
  {
   "cell_type": "code",
   "execution_count": 7,
   "metadata": {},
   "outputs": [
    {
     "name": "stdout",
     "output_type": "stream",
     "text": [
      "mu_mu 5.5637116\n",
      "mu_std 0.69525486\n",
      "std_a 20.262835\n",
      "std_b 0.45077208\n"
     ]
    }
   ],
   "source": [
    "for name, value in pyro.get_param_store().items():\n",
    "    print(name, pyro.param(name).data.cpu().numpy())"
   ]
  },
  {
   "cell_type": "markdown",
   "metadata": {},
   "source": [
    "### Multivariate Gaussian\n",
    "#### Generalise the above the above code to be for a multivariate normal\n",
    "\n",
    "Let's set up the generative process and know what we're looking for \n",
    "\n",
    "$$P(\\boldsymbol{x|\\mu, \\Sigma}) \\sim N(\\boldsymbol{\\mu, \\Sigma})$$\n"
   ]
  },
  {
   "cell_type": "markdown",
   "metadata": {},
   "source": [
    "$$P(\\boldsymbol{\\mu}) \\sim N(\\boldsymbol{\\mu_{0}, \\Sigma_{0}})$$\n"
   ]
  },
  {
   "cell_type": "markdown",
   "metadata": {},
   "source": [
    "Then we generate $\\boldsymbol{x_{1}, \\ldots, x_{n}}$, and we want to find $P(\\boldsymbol{\\mu} | \\boldsymbol{x_{1}, \\ldots, x_{n}}) = N(\\boldsymbol{\\mu_{n}, \\Sigma_{n}})$, where specifically \n",
    "\n",
    "$$\\boldsymbol{\\Sigma_{n}} = \\boldsymbol{\\Sigma_{0}} \\left (\\boldsymbol{\\Sigma_{0}} + \\frac{1}{n} \\boldsymbol{\\Sigma} \\right)^{-1} \\frac{1}{n} \\boldsymbol{\\Sigma}$$\n",
    "\n",
    "$$\\boldsymbol{\\mu_{n}} = \\boldsymbol{\\Sigma_{0}} \\left (\\boldsymbol{\\Sigma_{0}} + \\frac{1}{n} \\boldsymbol{\\Sigma} \\right)^{-1} \\left (\\frac{1}{n} \\sum_{i=1}^{n} \\boldsymbol{x_{i}} \\right) + \\frac{1}{n}\\boldsymbol{\\Sigma}\\left (\\boldsymbol{\\Sigma_{0}} + \\frac{1}{n} \\boldsymbol{\\Sigma} \\right)^{-1} \\boldsymbol{\\mu_{0}}$$"
   ]
  },
  {
   "cell_type": "code",
   "execution_count": 82,
   "metadata": {},
   "outputs": [],
   "source": [
    "# write a function to find this exact posterior \n",
    "\n",
    "def get_posterior_cov_mv_gaussian(n, sigma, sigma_0):\n",
    "    sum_part = sigma_0 + 1/n * sigma\n",
    "    sum_part = np.linalg.inv(sum_part)\n",
    "    p1 = np.matmul(sigma_0, sum_part)\n",
    "    p2 = np.matmul(p1, 1/n * sigma)\n",
    "    return(p2)\n",
    "\n",
    "def get_posterior_mean_mv_gaussian(n, sigma, sigma_0, mu_0, data):\n",
    "    sum_part = sigma_0 + 1/n * sigma\n",
    "    sum_part = np.linalg.inv(sum_part)\n",
    "    \n",
    "    middle_part = data.mean(axis=0)\n",
    "    \n",
    "    p1 = np.matmul(sigma_0, sum_part)\n",
    "    p2 = np.matmul(p1, middle_part)\n",
    "    \n",
    "    p3 = np.matmul(1/n * sigma, sum_part)\n",
    "    p4 = np.matmul(p3, mu_0)\n",
    "    return(p2 + p4)\n",
    "    "
   ]
  },
  {
   "cell_type": "code",
   "execution_count": 72,
   "metadata": {},
   "outputs": [],
   "source": [
    "# make a function to generate multivariate random data \n",
    "\n",
    "def multivar_random(size, normal_params, gamma_params, num_samples):   \n",
    "\n",
    "    # simulate two random covariance matrices (PSD) for sigma and sigma_0\n",
    "    mat = np.random.gamma(gamma_params[0], gamma_params[1], size=size**2).reshape((size, size))\n",
    "    sigma_mat = torch.tensor(np.dot(mat, mat.transpose()))\n",
    "    \n",
    "    mat_0 = np.random.gamma(gamma_params[2], gamma_params[3], size=size**2).reshape((size, size))\n",
    "    sigma_mat_0 = torch.tensor(np.dot(mat_0, mat_0.transpose()))\n",
    "    \n",
    "    # simulate some random means\n",
    "    mu_vector = torch.tensor(np.random.multivariate_normal(normal_params, sigma_mat_0, size=1))[0]\n",
    "    print(mu_vector)\n",
    "\n",
    "    # now simulate multivariate gaussian\n",
    "    data = torch.tensor(np.random.multivariate_normal(mu_vector, sigma_mat, size=num_samples))\n",
    "    \n",
    "    return(data, mu_vector, sigma_mat, sigma_mat_0)\n"
   ]
  },
  {
   "cell_type": "code",
   "execution_count": 73,
   "metadata": {},
   "outputs": [],
   "source": [
    "# define the model:\n",
    "\n",
    "def model(loc_mean_prior_params, loc_scale_prior_params, data):\n",
    "    loc = pyro.sample(\"loc\", dist.MultivariateNormal(loc_mean_prior_params, loc_scale_prior_params))\n",
    "    # for now leave the scale as the identity - can change it to Wishart in the future\n",
    "    scale = pyro.param(\"scale\", torch.eye(5, 5))\n",
    "    with pyro.plate(\"data\", 1000):\n",
    "        return pyro.sample(\"obs\", dist.MultivariateNormal(loc, scale), obs=data)"
   ]
  },
  {
   "cell_type": "code",
   "execution_count": 74,
   "metadata": {},
   "outputs": [],
   "source": [
    "def parametrised_guide(loc_mean_prior_params, loc_scale_prior_params, data):\n",
    "    \n",
    "    mu_mu = pyro.param(\"mu_mu\", torch.tensor(loc_mean_prior_params))\n",
    "    \n",
    "    mu_std = pyro.param(\n",
    "        \"mu_std\", torch.tensor(loc_scale_prior_params) , constraint=constraints.positive_definite\n",
    "    ) \n",
    "\n",
    "    loc = pyro.sample(\"loc\", dist.MultivariateNormal(mu_mu, mu_std))\n",
    "    scale = pyro.param(\"scale\", torch.eye(5, 5))\n",
    "    return pyro.sample(\"data_dist\", dist.MultivariateNormal(loc, scale))"
   ]
  },
  {
   "cell_type": "code",
   "execution_count": 81,
   "metadata": {},
   "outputs": [
    {
     "data": {
      "text/plain": [
       "torch.Size([5])"
      ]
     },
     "execution_count": 81,
     "metadata": {},
     "output_type": "execute_result"
    }
   ],
   "source": [
    "data.mean(axis=0).shape"
   ]
  },
  {
   "cell_type": "code",
   "execution_count": 76,
   "metadata": {
    "collapsed": true
   },
   "outputs": [
    {
     "name": "stderr",
     "output_type": "stream",
     "text": [
      "C:\\Users\\ryant\\anaconda3\\lib\\site-packages\\ipykernel_launcher.py:3: UserWarning: To copy construct from a tensor, it is recommended to use sourceTensor.clone().detach() or sourceTensor.clone().detach().requires_grad_(True), rather than torch.tensor(sourceTensor).\n",
      "  This is separate from the ipykernel package so we can avoid doing imports until\n",
      "C:\\Users\\ryant\\anaconda3\\lib\\site-packages\\ipykernel_launcher.py:6: UserWarning: To copy construct from a tensor, it is recommended to use sourceTensor.clone().detach() or sourceTensor.clone().detach().requires_grad_(True), rather than torch.tensor(sourceTensor).\n",
      "  \n",
      "Elbo loss: 37569.04058647156\n"
     ]
    },
    {
     "name": "stdout",
     "output_type": "stream",
     "text": [
      "tensor([ 2.9335, -3.3431, -1.3363, -3.1334,  0.0773], dtype=torch.float64)\n"
     ]
    },
    {
     "name": "stderr",
     "output_type": "stream",
     "text": [
      "Elbo loss: 9441.631656169891\n",
      "Elbo loss: 8982.988881111145\n",
      "Elbo loss: 8913.52305841446\n",
      "Elbo loss: 8837.711171150208\n",
      "Elbo loss: 8812.102840900421\n",
      "Elbo loss: 8818.503715515137\n",
      "Elbo loss: 8788.621195793152\n",
      "Elbo loss: 8888.056809425354\n",
      "Elbo loss: 9090.503962993622\n"
     ]
    },
    {
     "name": "stdout",
     "output_type": "stream",
     "text": [
      "Wall time: 6.47 s\n"
     ]
    },
    {
     "data": {
      "text/plain": [
       "Text(0, 0.5, 'ELBO loss')"
      ]
     },
     "execution_count": 76,
     "metadata": {},
     "output_type": "execute_result"
    },
    {
     "data": {
      "image/png": "[encoded data removed]",
      "text/plain": [
       "<Figure size 500x200 with 1 Axes>"
      ]
     },
     "metadata": {},
     "output_type": "display_data"
    }
   ],
   "source": [
    "%%time\n",
    "pyro.clear_param_store()\n",
    "\n",
    "data, mu_vector, sigma, sigma_0 = multivar_random(5, [0] * 5, [1, 1, 1, 1], 1000)\n",
    "\n",
    "# These should be reset each training loop.\n",
    "svi = pyro.infer.SVI(\n",
    "    model=model,\n",
    "    guide=parametrised_guide,\n",
    "    optim=pyro.optim.Adam({\"lr\": 0.1}),\n",
    "    loss=pyro.infer.Trace_ELBO())\n",
    "\n",
    "losses = []\n",
    "for step in range(1000 if not smoke_test else 2):  # Consider running for more steps.\n",
    "    loss = svi.step(torch.zeros(5), torch.eye(5, 5), data)\n",
    "    losses.append(loss)\n",
    "    if step % 100 == 0:\n",
    "        logging.info(\"Elbo loss: {}\".format(loss))\n",
    "\n",
    "plt.figure(figsize=(5, 2))\n",
    "plt.plot(losses)\n",
    "plt.xlabel(\"SVI step\")\n",
    "plt.ylabel(\"ELBO loss\");"
   ]
  },
  {
   "cell_type": "code",
   "execution_count": 84,
   "metadata": {},
   "outputs": [
    {
     "data": {
      "text/plain": [
       "<generator object ParamStoreDict.items at 0x000001E9DE9C21C8>"
      ]
     },
     "execution_count": 84,
     "metadata": {},
     "output_type": "execute_result"
    }
   ],
   "source": [
    "pyro.get_param_store().items()"
   ]
  },
  {
   "cell_type": "code",
   "execution_count": 85,
   "metadata": {},
   "outputs": [
    {
     "name": "stdout",
     "output_type": "stream",
     "text": [
      "mu_mu [ 2.882741   -3.3741767  -1.372194   -3.2502463   0.09272282]\n",
      "mu_std [[ 0.00342333  0.00390107  0.00033841  0.00553106  0.00555837]\n",
      " [ 0.00390107  0.00818106  0.00117048  0.0037125   0.01026615]\n",
      " [ 0.00033841  0.00117048  0.00349503 -0.00069344 -0.00377735]\n",
      " [ 0.00553106  0.0037125  -0.00069344  0.01188624  0.00821848]\n",
      " [ 0.00555837  0.01026615 -0.00377735  0.00821848  0.02388631]]\n"
     ]
    }
   ],
   "source": [
    "for name, value in pyro.get_param_store().items():\n",
    "    if name == 'mu_mu' or name == 'mu_std':\n",
    "        print(name, pyro.param(name).data.cpu().numpy())"
   ]
  },
  {
   "cell_type": "code",
   "execution_count": 86,
   "metadata": {},
   "outputs": [
    {
     "data": {
      "text/plain": [
       "tensor([ 2.8531, -3.3495, -1.4188, -3.2231,  0.0823], dtype=torch.float64)"
      ]
     },
     "execution_count": 86,
     "metadata": {},
     "output_type": "execute_result"
    }
   ],
   "source": [
    "get_posterior_mean_mv_gaussian(1000, sigma, sigma_0, mu_vector, data)"
   ]
  },
  {
   "cell_type": "code",
   "execution_count": 87,
   "metadata": {},
   "outputs": [
    {
     "data": {
      "text/plain": [
       "tensor([[0.0046, 0.0042, 0.0033, 0.0052, 0.0045],\n",
       "        [0.0042, 0.0056, 0.0025, 0.0048, 0.0042],\n",
       "        [0.0033, 0.0025, 0.0056, 0.0058, 0.0028],\n",
       "        [0.0052, 0.0048, 0.0058, 0.0079, 0.0045],\n",
       "        [0.0045, 0.0042, 0.0028, 0.0045, 0.0058]], dtype=torch.float64)"
      ]
     },
     "execution_count": 87,
     "metadata": {},
     "output_type": "execute_result"
    }
   ],
   "source": [
    "get_posterior_cov_mv_gaussian(1000, sigma, sigma_0)"
   ]
  },
  {
   "cell_type": "markdown",
   "metadata": {},
   "source": [
    "### Bayesian Linear Regression\n",
    "\n",
    "Same pattern of simulating data and then running SVI on it \n",
    "\n",
    "First, set up the specifics of our model:\n",
    "\n",
    "$$\\boldsymbol{y}|\\boldsymbol{\\beta, \\Sigma} \\sim N(\\boldsymbol{\\beta^{T} X}, \\sigma^{2} \\boldsymbol{I})$$\n",
    "\n",
    "where $\\boldsymbol{\\beta}$ has some prior distribution:\n",
    "\n",
    "$$\\boldsymbol{\\beta} \\sim N(\\boldsymbol{\\mu_{0}}, \\boldsymbol{\\Sigma_{0}})$$\n",
    "\n",
    "and $\\sigma$ has some prior\n",
    "\n",
    "$$\\sigma \\sim Exp(\\lambda)$$. \n",
    "\n",
    "Explicity, this is \n",
    "\n",
    "$$y_{i} = \\beta_{0} + \\beta_{1}x_{1i} + \\ldots + \\beta_{k}x_{ki} + \\epsilon_{i}$$\n",
    "\n",
    "and we assume i.i.d. errors with a mean of zero and some variance: \n",
    "\n"
   ]
  },
  {
   "cell_type": "markdown",
   "metadata": {},
   "source": [
    "$$ \\boldsymbol{\\epsilon} \\sim N(0, \\sigma^{2} \\boldsymbol{I})$$\n",
    "\n",
    "No closed form for the true posterior, so we'll have to do this through MCMC"
   ]
  },
  {
   "cell_type": "code",
   "execution_count": 267,
   "metadata": {},
   "outputs": [],
   "source": [
    "# generate the random data in a linear model\n",
    "\n",
    "def bayesian_regression_generator(num_estimators, beta_means, noise, num_samples):\n",
    "    \n",
    "    # get iid betas for now (normal prior)\n",
    "    beta_vector = torch.tensor(np.random.normal(5, 1, size = (num_estimators + 1)))\n",
    "\n",
    "    # big X design matrix\n",
    "    X_rand = torch.tensor(np.random.multivariate_normal(torch.zeros(num_estimators),\n",
    "                                                   torch.eye(num_estimators, num_estimators),\n",
    "                                                   size = 1000))\n",
    "    X = torch.ones(1000, num_estimators + 1)\n",
    "    X[:, 1:] = X_rand\n",
    "    \n",
    "    sigma = torch.tensor(np.random.exponential(noise))\n",
    "\n",
    "    # some noise\n",
    "    epsilon = torch.tensor(np.random.normal(0, sigma, size = 1000))\n",
    "\n",
    "    # now observations\n",
    "    y = np.matmul(beta_vector, np.transpose(X)) + epsilon\n",
    "    \n",
    "    return(X, y, beta_vector, sigma)"
   ]
  },
  {
   "cell_type": "code",
   "execution_count": 268,
   "metadata": {},
   "outputs": [],
   "source": [
    "# now that we have data, set up the pyro models and SVI\n",
    "\n",
    "# define the model:\n",
    "def model(beta_prior_locs, beta_prior_scale, sigma_prior_rate, X, y):\n",
    "    \n",
    "    # we essentially have a multivariate gaussian within for the beta vector:\n",
    "    beta = pyro.sample(\"beta\", dist.MultivariateNormal(beta_prior_locs, beta_prior_scale))\n",
    "    \n",
    "    mu = torch.matmul(beta, np.transpose(X))\n",
    "    # now the variance\n",
    "    sigma = pyro.sample(\"sigma\", dist.Exponential(sigma_prior_rate))\n",
    "    \n",
    "    with pyro.plate(\"data\", 1000):\n",
    "        return pyro.sample(\"obs\", dist.Normal(mu, sigma), obs=y)\n"
   ]
  },
  {
   "cell_type": "code",
   "execution_count": 269,
   "metadata": {},
   "outputs": [],
   "source": [
    "def parametrised_guide(beta_prior_locs, beta_prior_scale, sigma_prior_rate, X, y):\n",
    "    \n",
    "    beta_loc = pyro.param(\"beta_loc\", torch.tensor(beta_prior_locs))\n",
    "    \n",
    "    sigma_rate = pyro.param(\n",
    "        \"noise\", torch.tensor(sigma_prior_rate) , constraint=constraints.positive\n",
    "    ) \n",
    "    \n",
    "    beta = pyro.sample(\"beta\", dist.MultivariateNormal(beta_loc, beta_prior_scale))\n",
    "    sigma = pyro.sample(\"sigma\", dist.Exponential(sigma_rate))\n",
    "    \n",
    "    mu = torch.matmul(beta, np.transpose(X))\n",
    "\n",
    "    return {\"beta\": beta, \"sigma\": sigma}"
   ]
  },
  {
   "cell_type": "code",
   "execution_count": 270,
   "metadata": {},
   "outputs": [],
   "source": [
    "auto_guide = pyro.infer.autoguide.AutoNormal(model)"
   ]
  },
  {
   "cell_type": "code",
   "execution_count": 273,
   "metadata": {
    "scrolled": false
   },
   "outputs": [
    {
     "name": "stderr",
     "output_type": "stream",
     "text": [
      "Elbo loss: 55887.21176354913\n",
      "Elbo loss: 3278.942157596153\n",
      "Elbo loss: 2990.3223602920334\n",
      "Elbo loss: 2466.4105236599707\n",
      "Elbo loss: 1768.373885886567\n",
      "Elbo loss: 1524.8402902028351\n",
      "Elbo loss: 1522.59282570833\n",
      "Elbo loss: 1521.3842265405267\n",
      "Elbo loss: 1529.5125807617296\n",
      "Elbo loss: 1521.3229747131852\n"
     ]
    },
    {
     "name": "stdout",
     "output_type": "stream",
     "text": [
      "Wall time: 4.98 s\n"
     ]
    },
    {
     "data": {
      "text/plain": [
       "Text(0, 0.5, 'ELBO loss')"
      ]
     },
     "execution_count": 273,
     "metadata": {},
     "output_type": "execute_result"
    },
    {
     "data": {
      "image/png": "[encoded data removed]",
      "text/plain": [
       "<Figure size 500x200 with 1 Axes>"
      ]
     },
     "metadata": {},
     "output_type": "display_data"
    }
   ],
   "source": [
    "%%time\n",
    "pyro.clear_param_store()\n",
    "\n",
    "X, y, beta_vector, sigma = bayesian_regression_generator(num_estimators=3,\n",
    "                                                         beta_means=torch.zeros(4),\n",
    "                                                         noise=3,\n",
    "                                                         num_samples=1000)\n",
    "\n",
    "# These should be reset each training loop.\n",
    "svi = pyro.infer.SVI(\n",
    "    model=model,\n",
    "    guide=auto_guide,\n",
    "    optim=pyro.optim.Adam({\"lr\": 0.1}),\n",
    "    loss=pyro.infer.Trace_ELBO())\n",
    "\n",
    "losses = []\n",
    "for step in range(1000 if not smoke_test else 2):  # Consider running for more steps.\n",
    "    loss = svi.step(torch.zeros(4), torch.eye(4, 4), 1, X, y)\n",
    "    losses.append(loss)\n",
    "    if step % 100 == 0:\n",
    "        logging.info(\"Elbo loss: {}\".format(loss))\n",
    "\n",
    "plt.figure(figsize=(5, 2))\n",
    "plt.plot(losses)\n",
    "plt.xlabel(\"SVI step\")\n",
    "plt.ylabel(\"ELBO loss\");"
   ]
  },
  {
   "cell_type": "code",
   "execution_count": 274,
   "metadata": {},
   "outputs": [
    {
     "name": "stdout",
     "output_type": "stream",
     "text": [
      "AutoNormal.locs.beta [5.691011  5.5843663 4.819916  6.2293434]\n",
      "AutoNormal.scales.beta [0.03649952 0.03113776 0.03577652 0.03128989]\n",
      "AutoNormal.locs.sigma 0.020515498\n",
      "AutoNormal.scales.sigma 0.044033676\n"
     ]
    }
   ],
   "source": [
    "for name, value in pyro.get_param_store().items():\n",
    "    print(name, pyro.param(name).data.cpu().numpy())"
   ]
  },
  {
   "cell_type": "code",
   "execution_count": 275,
   "metadata": {},
   "outputs": [
    {
     "data": {
      "text/plain": [
       "tensor([5.7219, 5.5588, 4.7766, 6.2026], dtype=torch.float64)"
      ]
     },
     "execution_count": 275,
     "metadata": {},
     "output_type": "execute_result"
    }
   ],
   "source": [
    "beta_vector"
   ]
  },
  {
   "cell_type": "code",
   "execution_count": null,
   "metadata": {},
   "outputs": [],
   "source": []
  }
 ],
 "metadata": {
  "kernelspec": {
   "display_name": "Python 3",
   "language": "python",
   "name": "python3"
  },
  "language_info": {
   "codemirror_mode": {
    "name": "ipython",
    "version": 3
   },
   "file_extension": ".py",
   "mimetype": "text/x-python",
   "name": "python",
   "nbconvert_exporter": "python",
   "pygments_lexer": "ipython3",
   "version": "3.7.6"
  }
 },
 "nbformat": 4,
 "nbformat_minor": 5
}
