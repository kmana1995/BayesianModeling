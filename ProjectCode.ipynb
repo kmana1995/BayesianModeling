{
 "cells": [
  {
   "cell_type": "code",
   "execution_count": 1,
   "metadata": {},
   "outputs": [],
   "source": [
    "import logging\n",
    "import os\n",
    "\n",
    "import torch\n",
    "import numpy as np\n",
    "import pandas as pd\n",
    "import seaborn as sns\n",
    "import matplotlib.pyplot as plt\n",
    "\n",
    "import pyro\n",
    "\n",
    "smoke_test = ('CI' in os.environ)\n",
    "assert pyro.__version__.startswith('1.8.1')\n",
    "\n",
    "pyro.enable_validation(True)\n",
    "pyro.set_rng_seed(1)\n",
    "logging.basicConfig(format='%(message)s', level=logging.INFO)\n",
    "\n",
    "# Set matplotlib settings\n",
    "%matplotlib inline\n",
    "plt.style.use('default')"
   ]
  },
  {
   "cell_type": "markdown",
   "metadata": {},
   "source": [
    "# Univariate Gaussian"
   ]
  },
  {
   "cell_type": "code",
   "execution_count": 9,
   "metadata": {},
   "outputs": [],
   "source": [
    "import pyro.distributions as dist\n",
    "import pyro.distributions.constraints as constraints\n",
    "\n",
    "loc = 5\n",
    "scale = 20\n",
    "data = torch.tensor(np.random.normal(loc=loc, scale=scale, size=1000))\n",
    "\n",
    "loc = 5\n",
    "scale = 20\n",
    "data = torch.tensor(np.random.normal(loc=loc, scale=scale, size=1000))\n",
    "\n",
    "def model(loc_prior_params, scale_prior_params, data):\n",
    "    loc = pyro.sample(\"loc\", dist.Normal(loc_prior_params[0], loc_prior_params[1]))\n",
    "    scale = pyro.sample(\"scale\", dist.Gamma(scale_prior_params[0], scale_prior_params[1]))\n",
    "    with pyro.plate(\"data\", 1000):\n",
    "        return pyro.sample(\"obs\", dist.Normal(loc, scale), obs=data)\n",
    "\n",
    "# pyro.render_model(model, model_args=([0.,4.], [1., 8.], data), render_params=True, render_distributions=True)"
   ]
  },
  {
   "cell_type": "code",
   "execution_count": 3,
   "metadata": {},
   "outputs": [],
   "source": [
    "def parametrised_guide(loc_prior_params, scale_prior_params, data):\n",
    "    mu_mu = pyro.param(\"mu_mu\", torch.tensor(float(loc_prior_params[0])))\n",
    "    \n",
    "    mu_std = pyro.param(\n",
    "        \"mu_std\", torch.tensor(float(loc_prior_params[1])), constraint=constraints.positive\n",
    "    )\n",
    "    \n",
    "    std_a = pyro.param(\n",
    "        \"std_a\", torch.tensor(scale_prior_params[0]), constraint=constraints.positive\n",
    "    )\n",
    "    \n",
    "    std_b = pyro.param(\n",
    "        \"std_b\", torch.tensor(scale_prior_params[1]), constraint=constraints.positive\n",
    "    )\n",
    "\n",
    "    loc = pyro.sample(\"loc\", dist.Normal(mu_mu, mu_std))\n",
    "    scale = pyro.sample(\"scale\", dist.Normal(std_a, std_b))\n",
    "    return pyro.sample(\"data_dist\", dist.Normal(loc, scale))"
   ]
  },
  {
   "cell_type": "markdown",
   "metadata": {},
   "source": [
    "### Train"
   ]
  },
  {
   "cell_type": "code",
   "execution_count": 4,
   "metadata": {},
   "outputs": [
    {
     "name": "stderr",
     "output_type": "stream",
     "text": [
      "C:\\Users\\ryant\\anaconda3\\lib\\site-packages\\pyro\\util.py:291: UserWarning: Found non-auxiliary vars in guide but not model, consider marking these infer={'is_auxiliary': True}:\n",
      "{'data_dist'}\n",
      "  guide_vars - aux_vars - model_vars\n",
      "Elbo loss: 6142.452677633746\n",
      "Elbo loss: 4472.90082233172\n",
      "Elbo loss: 4470.2476628203485\n",
      "Elbo loss: 4450.270240564545\n",
      "Elbo loss: 4450.7917282296585\n",
      "Elbo loss: 4449.99141985989\n",
      "Elbo loss: 4450.02951936009\n",
      "Elbo loss: 4450.813327689761\n",
      "Elbo loss: 4452.039200870926\n",
      "Elbo loss: 4450.092685545786\n"
     ]
    },
    {
     "name": "stdout",
     "output_type": "stream",
     "text": [
      "Wall time: 3.91 s\n"
     ]
    },
    {
     "data": {
      "text/plain": [
       "Text(0, 0.5, 'ELBO loss')"
      ]
     },
     "execution_count": 4,
     "metadata": {},
     "output_type": "execute_result"
    },
    {
     "data": {
      "image/png": "[encoded data removed]",
      "text/plain": [
       "<Figure size 500x200 with 1 Axes>"
      ]
     },
     "metadata": {},
     "output_type": "display_data"
    }
   ],
   "source": [
    "%%time\n",
    "pyro.clear_param_store()\n",
    "\n",
    "# These should be reset each training loop.\n",
    "svi = pyro.infer.SVI(\n",
    "    model=model,\n",
    "    guide=parametrised_guide,\n",
    "    optim=pyro.optim.Adam({\"lr\": 0.1}),\n",
    "    loss=pyro.infer.Trace_ELBO())\n",
    "\n",
    "losses = []\n",
    "for step in range(1000 if not smoke_test else 2):  # Consider running for more steps.\n",
    "    loss = svi.step([0,10], [8, 1], data)\n",
    "    losses.append(loss)\n",
    "    if step % 100 == 0:\n",
    "        logging.info(\"Elbo loss: {}\".format(loss))\n",
    "\n",
    "plt.figure(figsize=(5, 2))\n",
    "plt.plot(losses)\n",
    "plt.xlabel(\"SVI step\")\n",
    "plt.ylabel(\"ELBO loss\");"
   ]
  },
  {
   "cell_type": "code",
   "execution_count": 5,
   "metadata": {},
   "outputs": [
    {
     "name": "stdout",
     "output_type": "stream",
     "text": [
      "mu_mu 5.5637116\n",
      "mu_std 0.69525486\n",
      "std_a 20.262835\n",
      "std_b 0.45077208\n"
     ]
    }
   ],
   "source": [
    "for name, value in pyro.get_param_store().items():\n",
    "    print(name, pyro.param(name).data.cpu().numpy())"
   ]
  },
  {
   "cell_type": "markdown",
   "metadata": {},
   "source": [
    "### Multivariate Gaussian\n",
    "#### Generalise the above the above code to be for a multivariate normal\n",
    "\n"
   ]
  },
  {
   "cell_type": "code",
   "execution_count": 83,
   "metadata": {},
   "outputs": [],
   "source": [
    "# make a function to generate multivariate random data \n",
    "\n",
    "def multivar_random(size, normal_params, gamma_params, num_samples):   \n",
    "\n",
    "    # simulate some random means\n",
    "    mu_vector = torch.tensor(np.random.normal(normal_params[0], normal_params[1], size=size))\n",
    "\n",
    "    # simulate a random covariance matrix (PSD)\n",
    "    mat = np.random.gamma(gamma_params[0], gamma_params[1], size=size**2).reshape((size, size))\n",
    "    sigma_mat = torch.tensor(np.dot(mat, mat.transpose()))\n",
    "\n",
    "    # now simulate multivariate gaussian\n",
    "    data = torch.tensor(np.random.multivariate_normal(mu_vector, sigma_mat, size=num_samples))\n",
    "    \n",
    "    return(data, mu_vector, sigma_mat)\n"
   ]
  },
  {
   "cell_type": "code",
   "execution_count": 84,
   "metadata": {},
   "outputs": [],
   "source": [
    "# define the model:\n",
    "\n",
    "def model(loc_mean_prior_params, loc_scale_prior_params, data):\n",
    "    loc = pyro.sample(\"loc\", dist.MultivariateNormal(loc_mean_prior_params, loc_scale_prior_params))\n",
    "    # for now leave the scale as the identity - can change it to Wishart in the future\n",
    "    scale = pyro.param(\"scale\", torch.eye(5, 5))\n",
    "    with pyro.plate(\"data\", 1000):\n",
    "        return pyro.sample(\"obs\", dist.MultivariateNormal(loc, scale), obs=data)"
   ]
  },
  {
   "cell_type": "code",
   "execution_count": 87,
   "metadata": {},
   "outputs": [],
   "source": [
    "def parametrised_guide(loc_mean_prior_params, loc_scale_prior_params, data):\n",
    "    \n",
    "    mu_mu = pyro.param(\"mu_mu\", torch.tensor(loc_mean_prior_params))\n",
    "    \n",
    "    mu_std = pyro.param(\n",
    "        \"mu_std\", torch.tensor(loc_scale_prior_params) , constraint=constraints.positive_definite\n",
    "    ) \n",
    "\n",
    "    loc = pyro.sample(\"loc\", dist.MultivariateNormal(mu_mu, mu_std))\n",
    "    scale = pyro.param(\"scale\", torch.eye(5, 5))\n",
    "    return pyro.sample(\"data_dist\", dist.MultivariateNormal(loc, scale))"
   ]
  },
  {
   "cell_type": "code",
   "execution_count": 88,
   "metadata": {
    "scrolled": false
   },
   "outputs": [
    {
     "name": "stderr",
     "output_type": "stream",
     "text": [
      "C:\\Users\\ryant\\anaconda3\\lib\\site-packages\\ipykernel_launcher.py:3: UserWarning: To copy construct from a tensor, it is recommended to use sourceTensor.clone().detach() or sourceTensor.clone().detach().requires_grad_(True), rather than torch.tensor(sourceTensor).\n",
      "  This is separate from the ipykernel package so we can avoid doing imports until\n",
      "C:\\Users\\ryant\\anaconda3\\lib\\site-packages\\ipykernel_launcher.py:6: UserWarning: To copy construct from a tensor, it is recommended to use sourceTensor.clone().detach() or sourceTensor.clone().detach().requires_grad_(True), rather than torch.tensor(sourceTensor).\n",
      "  \n",
      "Elbo loss: 736680.9620189667\n",
      "Elbo loss: 97961.75460004807\n",
      "Elbo loss: 61102.03262710571\n",
      "Elbo loss: 43959.351459503174\n",
      "Elbo loss: 25484.74414539337\n",
      "Elbo loss: 18894.487701416016\n",
      "Elbo loss: 15830.968316078186\n",
      "Elbo loss: 14573.584770202637\n",
      "Elbo loss: 12862.315815448761\n",
      "Elbo loss: 11857.556167602539\n"
     ]
    },
    {
     "name": "stdout",
     "output_type": "stream",
     "text": [
      "Wall time: 5.67 s\n"
     ]
    },
    {
     "data": {
      "text/plain": [
       "Text(0, 0.5, 'ELBO loss')"
      ]
     },
     "execution_count": 88,
     "metadata": {},
     "output_type": "execute_result"
    },
    {
     "data": {
      "image/png": "[encoded data removed]",
      "text/plain": [
       "<Figure size 500x200 with 1 Axes>"
      ]
     },
     "metadata": {},
     "output_type": "display_data"
    }
   ],
   "source": [
    "%%time\n",
    "pyro.clear_param_store()\n",
    "\n",
    "data, mu_vector, sigma_mat = multivar_random(5, [0, 10], [1, 1], 1000)\n",
    "\n",
    "# These should be reset each training loop.\n",
    "svi = pyro.infer.SVI(\n",
    "    model=model,\n",
    "    guide=parametrised_guide,\n",
    "    optim=pyro.optim.Adam({\"lr\": 0.1}),\n",
    "    loss=pyro.infer.Trace_ELBO())\n",
    "\n",
    "losses = []\n",
    "for step in range(1000 if not smoke_test else 2):  # Consider running for more steps.\n",
    "    loss = svi.step(torch.zeros(5), torch.eye(5, 5), data)\n",
    "    losses.append(loss)\n",
    "    if step % 100 == 0:\n",
    "        logging.info(\"Elbo loss: {}\".format(loss))\n",
    "\n",
    "plt.figure(figsize=(5, 2))\n",
    "plt.plot(losses)\n",
    "plt.xlabel(\"SVI step\")\n",
    "plt.ylabel(\"ELBO loss\");"
   ]
  },
  {
   "cell_type": "code",
   "execution_count": 89,
   "metadata": {},
   "outputs": [
    {
     "name": "stdout",
     "output_type": "stream",
     "text": [
      "mu_mu [ 6.3420777 31.956497   5.775317  -2.9689736 -8.357669 ]\n",
      "mu_std [[ 8.3462652e-03  3.6307308e-03  7.4797347e-03  2.2098648e-03\n",
      "   1.8402755e-03]\n",
      " [ 3.6307308e-03  7.7084757e-02  2.2343740e-02  2.8728142e-03\n",
      "  -3.7773822e-03]\n",
      " [ 7.4797347e-03  2.2343740e-02  1.3423044e-02  3.8641153e-03\n",
      "  -7.7672256e-04]\n",
      " [ 2.2098648e-03  2.8728142e-03  3.8641153e-03  3.5592555e-03\n",
      "  -9.3200098e-05]\n",
      " [ 1.8402755e-03 -3.7773822e-03 -7.7672256e-04 -9.3200098e-05\n",
      "   3.3165454e-03]]\n",
      "scale [[ 8.594566    0.4329217   5.226013    1.307479    3.2501667 ]\n",
      " [ 0.4329217   8.174869    2.607416    0.20056503 -0.06580348]\n",
      " [ 5.226013    2.607416    4.886437    1.4126663   0.9534494 ]\n",
      " [ 1.307479    0.20056503  1.4126663   2.2653964  -1.0579343 ]\n",
      " [ 3.2501667  -0.06580348  0.9534494  -1.0579343   4.182953  ]]\n"
     ]
    }
   ],
   "source": [
    "for name, value in pyro.get_param_store().items():\n",
    "    print(name, pyro.param(name).data.cpu().numpy())"
   ]
  },
  {
   "cell_type": "code",
   "execution_count": 90,
   "metadata": {},
   "outputs": [
    {
     "data": {
      "text/plain": [
       "tensor([ 6.4560, 34.9418,  6.7597, -2.9077, -8.4746], dtype=torch.float64)"
      ]
     },
     "execution_count": 90,
     "metadata": {},
     "output_type": "execute_result"
    }
   ],
   "source": [
    "mu_vector"
   ]
  },
  {
   "cell_type": "code",
   "execution_count": 91,
   "metadata": {},
   "outputs": [
    {
     "data": {
      "text/plain": [
       "tensor([[20.2170,  8.1435, 13.5323,  1.3032, 10.3329],\n",
       "        [ 8.1435, 10.9987,  8.4726,  1.7492,  4.4068],\n",
       "        [13.5323,  8.4726, 10.8561,  1.1566,  7.0430],\n",
       "        [ 1.3032,  1.7492,  1.1566,  0.9284,  0.9030],\n",
       "        [10.3329,  4.4068,  7.0430,  0.9030,  5.4539]], dtype=torch.float64)"
      ]
     },
     "execution_count": 91,
     "metadata": {},
     "output_type": "execute_result"
    }
   ],
   "source": [
    "sigma_mat"
   ]
  },
  {
   "cell_type": "code",
   "execution_count": null,
   "metadata": {},
   "outputs": [],
   "source": []
  }
 ],
 "metadata": {
  "kernelspec": {
   "display_name": "Python 3",
   "language": "python",
   "name": "python3"
  },
  "language_info": {
   "codemirror_mode": {
    "name": "ipython",
    "version": 3
   },
   "file_extension": ".py",
   "mimetype": "text/x-python",
   "name": "python",
   "nbconvert_exporter": "python",
   "pygments_lexer": "ipython3",
   "version": "3.7.6"
  }
 },
 "nbformat": 4,
 "nbformat_minor": 5
}
