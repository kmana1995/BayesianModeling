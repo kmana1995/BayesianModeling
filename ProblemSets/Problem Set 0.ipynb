{
 "cells": [
  {
   "cell_type": "markdown",
   "id": "0a7fc8ca",
   "metadata": {},
   "source": [
    "# MAP Logistic Regression, Dirichlet-multinomial Bayesian model, & Guassian Mixture Models"
   ]
  },
  {
   "cell_type": "markdown",
   "id": "491020d5",
   "metadata": {},
   "source": [
    "## Problem 1 - MAP for Logistic Regression\n",
    "\n",
    "### iii) Implement objective on synthetic data"
   ]
  },
  {
   "cell_type": "code",
   "execution_count": 477,
   "id": "a8f45dc9",
   "metadata": {},
   "outputs": [],
   "source": [
    "from scipy.optimize import minimize\n",
    "import numpy as np\n",
    "from scipy.stats import norm\n",
    "import matplotlib.pyplot as plt\n",
    "plt.style.use(\"ggplot\")"
   ]
  },
  {
   "cell_type": "code",
   "execution_count": 478,
   "id": "1d793823",
   "metadata": {},
   "outputs": [
    {
     "name": "stdout",
     "output_type": "stream",
     "text": [
      "Initial objective value -0.6335206602820121\n",
      "Optimal Objective value -0.9515458191313326\n",
      "Optimal coefficients [ 4.12173175 -3.74513246]\n"
     ]
    },
    {
     "data": {
      "image/png": "[encoded data removed]",
      "text/plain": [
       "<Figure size 432x288 with 1 Axes>"
      ]
     },
     "metadata": {},
     "output_type": "display_data"
    }
   ],
   "source": [
    "# create synthetic data\n",
    "n_obs = 100\n",
    "y = np.random.randint(0, 2, n_obs)\n",
    "X_dims = [1, n_obs]\n",
    "expected_coef = np.random.normal(loc=0, scale=1, size=5)\n",
    "X = [np.add(y*expected_coef[dim], np.random.normal(loc=0, scale=.2, size=len(y))) \n",
    "     for dim in range(X_dims[0])]\n",
    "X.append([1]*X_dims[1])\n",
    "X = np.array(X)\n",
    "\n",
    "# define initial thetas\n",
    "theta_init = np.array([1]*X.shape[0])\n",
    "\n",
    "# MLE for parameters theta\n",
    "def objective(theta, y, X, _lambda=0.001):\n",
    "    n_obs = len(y)\n",
    "    return  -((1/n_obs*np.sum(((1/(1+np.exp(-(np.dot(X.T, theta)))))**y)*\n",
    "            ((1 - 1/(1+np.exp(-(np.dot(X.T, theta)))))**(1-y)))) - _lambda*np.sum(theta**2))\n",
    "\n",
    "# print initial objective value\n",
    "print(\"Initial objective value {}\".format(objective(theta_init, y, X)))\n",
    "\n",
    "# optimize and show optimal objective, coefficients\n",
    "results = minimize(objective, theta_init, args=(y, X))\n",
    "objective_val = results.fun\n",
    "theta_opt = results.x\n",
    "print(\"Optimal Objective value {}\".format(objective_val))\n",
    "print(\"Optimal coefficients {}\".format(theta_opt))\n",
    "\n",
    "predictions = 1/(1+np.exp(-(np.dot(X.T, theta_opt))))\n",
    "\n",
    "plt.scatter(X[0], predictions, label=\"Predictions\")\n",
    "plt.scatter(X[0], y, label=\"Actuals\")\n",
    "plt.legend()\n",
    "plt.title(\"Results with Respect to one X Dimension\")\n",
    "plt.show()"
   ]
  },
  {
   "cell_type": "code",
   "execution_count": 465,
   "id": "0fe84d86",
   "metadata": {},
   "outputs": [],
   "source": [
    "def gmm_data_creation(mus=[1, 6, 12], rates=[0.5, 0.2, 0.3], sigmas=[1, 0.6, 3], n_samples=100):\n",
    "    for idx in range(len(mus)):\n",
    "        if idx == 0:\n",
    "            samples = []\n",
    "        mu = mus[idx]\n",
    "        sigma = sigmas[idx]\n",
    "        rate = rates[idx]\n",
    "        n = int(round(n_samples * rate, 0))\n",
    "        samples.extend(np.random.normal(loc=mu, scale=sigma, size=n).tolist())\n",
    "    np.random.shuffle(samples)\n",
    "    return samples\n",
    "\n",
    "def gmm_em(data, mus_init=[3, 9, 17], rates_init=[1/3, 1/3, 1/3], sigma_init=[2,2,2], max_iters=100, epsilon=1e-9):\n",
    "    K = len(mus_init)\n",
    "    \n",
    "    # calculate likelihood\n",
    "    l = np.array([norm.pdf(loc=mus_init[idx], scale=sigma_init[idx], x=data) for idx in range(K)])\n",
    "    likelihood = 1/len(data)*sum(np.log(np.dot(l.T, np.array(rates_init))))\n",
    "    \n",
    "    rates = rates_init \n",
    "    mus = mus_init\n",
    "    sigma = sigma_init\n",
    "    for i in range(1, max_iters+1):\n",
    "        # calculate initial expectation\n",
    "        prob_z = np.divide(np.multiply(l.T, np.array(rates)).T, np.dot(l.T, np.array(rates)))\n",
    "        \n",
    "        # calculate new params\n",
    "        N = [sum(prob_z[i,:]) for i in range(K)]\n",
    "        mus = [1/N[i]*np.dot(prob_z[i, :], data) for i in range(K)]\n",
    "        \n",
    "        rates = [N[i]/len(data) for i in range(K)]\n",
    "        sigma = [np.sqrt(sum(np.multiply(np.subtract(data, mus[i])**2, prob_z[i]))/N[i]) for i in range(K)]\n",
    "\n",
    "        # re-evaluate likelihood\n",
    "        l = np.array([norm.pdf(loc=mus[idx], scale=sigma[idx], x=data) for idx in range(K)])\n",
    "        likelihood_new = 1/len(data)*sum(np.log(np.dot(l.T, np.array(rates))))\n",
    "        \n",
    "        \n",
    "        if likelihood_new > likelihood + epsilon:\n",
    "            likelihood = likelihood_new\n",
    "        elif likelihood_new < likelihood:\n",
    "            print(\"Error, likelihood should monotonically decrease, but increased from {} to {}.\".format(likelihood,\n",
    "                                                                                                       likelihood_new))\n",
    "        else:\n",
    "            print(\"EM terminated after {} iterations\".format(i))\n",
    "            break\n",
    "        \n",
    "    return mus, rates, sigma"
   ]
  },
  {
   "cell_type": "code",
   "execution_count": 480,
   "id": "cdf10c2d",
   "metadata": {
    "scrolled": true
   },
   "outputs": [
    {
     "name": "stdout",
     "output_type": "stream",
     "text": [
      "EM terminated after 38 iterations\n"
     ]
    },
    {
     "data": {
      "image/png": "[encoded data removed]",
      "text/plain": [
       "<Figure size 432x288 with 1 Axes>"
      ]
     },
     "metadata": {},
     "output_type": "display_data"
    }
   ],
   "source": [
    "data = gmm_data_creation(mus=[1, 9, 12], rates=[0.5, 0.2, 0.3], sigmas=[1, 1, 0.5], n_samples=10000)\n",
    "params = gmm_em(data)\n",
    "\n",
    "plt.hist(data, label=\"Actual Data\", bins=50)\n",
    "generated = gmm_data_creation(params[0], params[1], params[2], n_samples=10000)\n",
    "plt.hist(generated, label=\"Generated GMM\", histtype=\"step\", bins=50, linewidth=3)\n",
    "plt.legend()\n",
    "plt.show()"
   ]
  },
  {
   "cell_type": "code",
   "execution_count": 481,
   "id": "8d48f28a",
   "metadata": {},
   "outputs": [
    {
     "data": {
      "text/plain": [
       "([0.9918258082100696, 9.015587326901198, 11.999630931465406],\n",
       " [0.49999736373515863, 0.20131719967656933, 0.298685436588272],\n",
       " [0.9861854575959232, 1.0158791191549275, 0.4982628035909606])"
      ]
     },
     "execution_count": 481,
     "metadata": {},
     "output_type": "execute_result"
    }
   ],
   "source": [
    "params"
   ]
  },
  {
   "cell_type": "code",
   "execution_count": null,
   "id": "a88b238e",
   "metadata": {},
   "outputs": [],
   "source": []
  }
 ],
 "metadata": {
  "kernelspec": {
   "display_name": "Python 3 (ipykernel)",
   "language": "python",
   "name": "python3"
  },
  "language_info": {
   "codemirror_mode": {
    "name": "ipython",
    "version": 3
   },
   "file_extension": ".py",
   "mimetype": "text/x-python",
   "name": "python",
   "nbconvert_exporter": "python",
   "pygments_lexer": "ipython3",
   "version": "3.7.7"
  }
 },
 "nbformat": 4,
 "nbformat_minor": 5
}
