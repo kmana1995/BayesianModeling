{
 "cells": [
  {
   "cell_type": "code",
   "execution_count": 2,
   "metadata": {
    "colab": {
     "base_uri": "https://localhost:8080/"
    },
    "id": "EFqz2KuG9ALG",
    "outputId": "e8855c8d-bab4-4222-e2fe-58277a384949"
   },
   "outputs": [],
   "source": [
    "import pyro\n",
    "import pyro.distributions as dist\n",
    "from pyro.infer.mcmc import MCMC, HMC, NUTS\n",
    "from pyro.optim import Adam\n",
    "from pyro.infer import SVI, Trace_ELBO\n",
    "import torch.distributions.constraints as constraints\n",
    "\n",
    "import numpy as np\n",
    "import scipy.stats as stats\n",
    "import pandas as pd\n",
    "\n",
    "import matplotlib.pyplot as plt\n",
    "import pandas as pd\n",
    "\n",
    "import torch\n",
    "from torch import Tensor\n",
    "import torch.nn as nn\n",
    "import torch.nn.functional as F\n",
    "import torch.optim as optim\n",
    "from torch.utils.data import DataLoader, TensorDataset\n",
    "\n",
    "%matplotlib inline"
   ]
  },
  {
   "cell_type": "code",
   "execution_count": 3,
   "metadata": {
    "id": "g4kNxQ279CX_"
   },
   "outputs": [],
   "source": [
    "assert pyro.__version__.startswith('1.8.1')\n",
    "pyro.distributions.enable_validation(False)\n",
    "pyro.set_rng_seed(0)\n",
    "# Enable smoke test - run the notebook cells on CI.\n",
    "#smoke_test = 'CI' in os.environ"
   ]
  },
  {
   "cell_type": "code",
   "execution_count": 4,
   "metadata": {
    "id": "55Ur-Emx9I6L"
   },
   "outputs": [],
   "source": [
    "nn_decoder = nn.Sequential(nn.Linear(20, 100), nn.Softplus(), nn.Linear(100, 784), nn.Sigmoid())"
   ]
  },
  {
   "cell_type": "code",
   "execution_count": 5,
   "metadata": {
    "id": "KDad75Yq9Lh8"
   },
   "outputs": [],
   "source": [
    "device = torch.device('cpu')\n",
    "# if torch.cuda.is_available():\n",
    "#     device = torch.device('cuda:0')"
   ]
  },
  {
   "cell_type": "code",
   "execution_count": 608,
   "metadata": {},
   "outputs": [],
   "source": [
    "from torch.distributions.utils import (_sum_rightmost, broadcast_all,\n",
    "                                       lazy_property, tril_matrix_to_vec,\n",
    "                                       vec_to_tril_matrix)"
   ]
  },
  {
   "cell_type": "code",
   "execution_count": 621,
   "metadata": {},
   "outputs": [],
   "source": [
    "x = torch.tensor(np.random.sample(size=15))\n",
    "y = torch.tensor(np.random.sample(size=15))\n",
    "xs = torch.cat((x, y))"
   ]
  },
  {
   "cell_type": "code",
   "execution_count": 622,
   "metadata": {},
   "outputs": [
    {
     "data": {
      "text/plain": [
       "torch.Size([30])"
      ]
     },
     "execution_count": 622,
     "metadata": {},
     "output_type": "execute_result"
    }
   ],
   "source": [
    "xs.shape"
   ]
  },
  {
   "cell_type": "code",
   "execution_count": 612,
   "metadata": {},
   "outputs": [
    {
     "data": {
      "text/plain": [
       "tensor([[0.4136, 0.0000, 0.0000, 0.0000, 0.0000],\n",
       "        [0.6976, 0.8194, 0.0000, 0.0000, 0.0000],\n",
       "        [0.7773, 0.3456, 0.8523, 0.0000, 0.0000],\n",
       "        [0.4432, 0.1132, 0.9493, 0.9556, 0.0000],\n",
       "        [0.4181, 0.3966, 0.4868, 0.8207, 0.4597]], dtype=torch.float64)"
      ]
     },
     "execution_count": 612,
     "metadata": {},
     "output_type": "execute_result"
    }
   ],
   "source": [
    "x = torch.tensor(np.random.sample(size=15))\n",
    "r = vec_to_tril_matrix(x)\n",
    "r"
   ]
  },
  {
   "cell_type": "code",
   "execution_count": 613,
   "metadata": {},
   "outputs": [
    {
     "data": {
      "text/plain": [
       "tensor([0.4136, 0.6976, 0.8194, 0.7773, 0.3456, 0.8523, 0.4432, 0.1132, 0.9493,\n",
       "        0.9556, 0.4181, 0.3966, 0.4868, 0.8207, 0.4597], dtype=torch.float64)"
      ]
     },
     "execution_count": 613,
     "metadata": {},
     "output_type": "execute_result"
    }
   ],
   "source": [
    "x"
   ]
  },
  {
   "cell_type": "code",
   "execution_count": 660,
   "metadata": {},
   "outputs": [
    {
     "data": {
      "text/plain": [
       "tensor([[0.1000, 0.0000, 0.0000, 0.0000, 0.0000],\n",
       "        [0.0000, 0.1000, 0.0000, 0.0000, 0.0000],\n",
       "        [0.0000, 0.0000, 0.1000, 0.0000, 0.0000],\n",
       "        [0.0000, 0.0000, 0.0000, 0.1000, 0.0000],\n",
       "        [0.0000, 0.0000, 0.0000, 0.0000, 0.1000]])"
      ]
     },
     "execution_count": 660,
     "metadata": {},
     "output_type": "execute_result"
    }
   ],
   "source": [
    "torch.eye(5)*0.1"
   ]
  },
  {
   "cell_type": "code",
   "execution_count": 655,
   "metadata": {},
   "outputs": [],
   "source": [
    "def make_pd_mat(size, tensor_of_vectors):\n",
    "    x = vec_to_tril_matrix(tensor_of_vectors)\n",
    "    for idx in range(size):\n",
    "        x[:, idx, idx] = torch.exp(x[:, idx, idx])\n",
    "    z_scale = torch.bmm(x, x.transpose(1, 2))\n",
    "    return z_scale"
   ]
  },
  {
   "cell_type": "code",
   "execution_count": 754,
   "metadata": {
    "id": "AR_D7Xoe9NkP"
   },
   "outputs": [],
   "source": [
    "import torch.nn.functional as F\n",
    "# define the PyTorch module that parameterizes the\n",
    "# diagonal gaussian distribution q(z|x)\n",
    "class Encoder(nn.Module):\n",
    "    def __init__(self, z_dim, hidden_dim, input_dim):\n",
    "        super(Encoder, self).__init__()\n",
    "        self.z_dim = z_dim\n",
    "        self.input_dim = input_dim\n",
    "        # setup the three linear transformations used\n",
    "        self.fc1 = nn.Linear(input_dim[0]*input_dim[1], hidden_dim)\n",
    "        self.fc21 = nn.Linear(hidden_dim, z_dim)\n",
    "        val = int((z_dim**2 + z_dim) / 2)\n",
    "#         print(val)\n",
    "        self.fc22 = nn.Linear(hidden_dim, val) # z_dim**2)\n",
    "        # setup the non-linearities\n",
    "        self.softplus = nn.Softplus()\n",
    "\n",
    "    def forward(self, x):\n",
    "        # then compute the hidden units\n",
    "        hidden = self.softplus(self.fc1(x.reshape(x.shape[0], self.input_dim[0] * self.input_dim[1])))\n",
    "        # then return a mean vector and a (positive) square root covariance\n",
    "        # each of size batch_size x z_dim\n",
    "        z_loc = self.fc21(hidden)\n",
    "        A_vect = self.fc22(hidden)\n",
    "#         A = A_vect.reshape((A_vect.shape[0], self.z_dim, self.z_dim))\n",
    "#         A = torch.tril(A)\n",
    "        A = vec_to_tril_matrix(A_vect)\n",
    "        z_scale = torch.bmm(A, A.transpose(1, 2))\n",
    "#         z_scale = make_pd_mat(self.z_dim, A_vect)\n",
    "        z_scale.add_(torch.eye(self.z_dim)*1e-4)\n",
    "        return z_loc, z_scale\n",
    "\n",
    "\n",
    "# define the PyTorch module that parameterizes the\n",
    "# observation likelihood p(x|z)\n",
    "class Decoder(nn.Module):\n",
    "    def __init__(self, z_dim, hidden_dim, input_dim):\n",
    "        super(Decoder, self).__init__()\n",
    "        # setup the two linear transformations used\n",
    "        self.fc1 = nn.Linear(z_dim, hidden_dim)\n",
    "        self.fc21 = nn.Linear(hidden_dim, input_dim)\n",
    "        self.fc22 = nn.Linear(hidden_dim, input_dim)\n",
    "        # setup the non-linearities\n",
    "        self.softplus = nn.Softplus()\n",
    "\n",
    "    def forward(self, z):\n",
    "        # define the forward computation on the latent z\n",
    "        # first compute the hidden units\n",
    "        hidden = self.softplus(self.fc1(z))\n",
    "        mu = self.fc21(hidden)\n",
    "        sigma = torch.exp(self.fc22(hidden))\n",
    "        return mu, sigma\n",
    "\n",
    "\n",
    "# define a PyTorch module for the VAE\n",
    "class VAE(nn.Module):\n",
    "    # by default our latent space is 50-dimensional\n",
    "    # and we use 400 hidden units\n",
    "    def __init__(self, input_dim,\n",
    "        z_dim=5, hidden_dim=250, use_cuda=False):\n",
    "        super(VAE, self).__init__()\n",
    "        # create the encoder and decoder networks\n",
    "        self.encoder = Encoder(z_dim, hidden_dim, input_dim=input_dim)\n",
    "        # self.decoder = Decoder(z_dim, hidden_dim, input_dim=input_dim)\n",
    "\n",
    "        if use_cuda:\n",
    "            # calling cuda() here will put all the parameters of\n",
    "            # the encoder and decoder networks into gpu memory\n",
    "            self.cuda()\n",
    "        self.use_cuda = use_cuda\n",
    "        self.z_dim = z_dim\n",
    "\n",
    "    # define the model p(x|z)p(z)\n",
    "    def model(self, sigma, x):\n",
    "        # register PyTorch module `decoder` with Pyro\n",
    "        # pyro.module(\"decoder\", self.decoder)\n",
    "        \n",
    "        for i in pyro.plate(\"batch_loop\", x.shape[0]):\n",
    "            \n",
    "            # setup hyperparameters for prior p(z)\n",
    "            mu_loc = torch.zeros(x.shape[0], self.z_dim, dtype=x.dtype, device=x.device)\n",
    "            mu_scale = torch.eye(x[0].shape[1]).reshape(\n",
    "                (1,x[0].shape[1],x[0].shape[1])).repeat(x.shape[0], 1, 1)\n",
    "            \n",
    "            # sample from prior (value will be sampled by guide when computing the ELBO\n",
    "            mu = pyro.sample(\"latent_{}\".format(i), dist.MultivariateNormal(mu_loc, mu_scale).to_event(1))\n",
    "            scale = pyro.param(\"scale_{}\".format(i), torch.eye(x[0].shape[1]).reshape(\n",
    "                (1,x[0].shape[1],x[0].shape[1])).repeat(x.shape[0], 1, 1))\n",
    "            \n",
    "            for j in pyro.plate(\"data_loop_{}\".format(i), x.shape[1]):\n",
    "                pyro.sample(\"obs_{}_{}\".format(j, i), dist.MultivariateNormal(mu[i, :], scale[i, :]),\n",
    "                                obs=x[i, j, :])          \n",
    "            \n",
    "    # define the guide (i.e. variational distribution) q(z|x)\n",
    "    def guide(self, sigma, x):\n",
    "        \n",
    "        # register PyTorch module `encoder` with Pyro\n",
    "        pyro.module(\"encoder\", self.encoder)\n",
    "        for i in pyro.plate(\"batch_loop\", x.shape[0]):\n",
    "            \n",
    "            # use the encoder to get the parameters used to define q(z|x)\n",
    "            z_loc, z_scale = self.encoder.forward(x)\n",
    "\n",
    "            # sample the latent code z\n",
    "            z = pyro.sample(\"latent_{}\".format(i), dist.MultivariateNormal(z_loc, z_scale).to_event(1))\n",
    "            \n",
    "            scale = pyro.param(\"scale_{}\".format(i), torch.eye(x[0].shape[1]).reshape(\n",
    "                (1,x[0].shape[1],x[0].shape[1])).repeat(x.shape[0], 1, 1))"
   ]
  },
  {
   "cell_type": "code",
   "execution_count": 771,
   "metadata": {},
   "outputs": [],
   "source": [
    "X = []\n",
    "means = []\n",
    "sigma_mats = []\n",
    "sigma_0s = []\n",
    "for idx in range(500):\n",
    "    random_means = np.random.sample(size=5) \n",
    "    \n",
    "    data, mu_vector, sigma_mat, sigma_mat_0 = multivar_random(5, [1]*5, [0.5,.5,.5,.5], num_samples=500)\n",
    "    X.append(data)\n",
    "    means.append(mu_vector)\n",
    "    sigma_mats.append(sigma_mat)\n",
    "    sigma_0s.append(sigma_mat_0)"
   ]
  },
  {
   "cell_type": "code",
   "execution_count": null,
   "metadata": {
    "scrolled": false
   },
   "outputs": [
    {
     "name": "stdout",
     "output_type": "stream",
     "text": [
      "[epoch 000]  average training loss: 10228.6071\n",
      "[epoch 002]  average training loss: 13888.4650\n",
      "Epoch:  3\r"
     ]
    }
   ],
   "source": [
    "# clear param store\n",
    "pyro.clear_param_store()\n",
    "\n",
    "no_instances = 20000\n",
    "input_dim = (500, 5)\n",
    "mu = stats.norm.rvs(size=input_dim)\n",
    "\n",
    "# setup the VAE\n",
    "vae = VAE(use_cuda=False, input_dim=input_dim, z_dim=5)\n",
    "\n",
    "adam_args = {\"lr\": 0.001}\n",
    "optimizer = Adam(adam_args)\n",
    "\n",
    "# setup the inference algorithm\n",
    "svi = SVI(vae.model, vae.guide, optimizer, loss=Trace_ELBO())\n",
    "train_loader = DataLoader(X, batch_size=500, shuffle=True,\n",
    "     num_workers=1, pin_memory=True, drop_last=False)\n",
    "\n",
    "train_elbo = []\n",
    "\n",
    "for epoch in range(100):\n",
    "    # initialize loss accumulator\n",
    "    epoch_loss = 0.\n",
    "    # do a training epoch over each mini-batch x returned\n",
    "    # by the data loader\n",
    "    print(\"Epoch: \", epoch, end = \"\\r\")\n",
    "    for x in train_loader:\n",
    "        # x = x.cuda()\n",
    "        epoch_loss += svi.step(torch.eye(input_dim[1]), x)\n",
    "\n",
    "    # report training diagnostics\n",
    "    if not epoch % 2:\n",
    "        normalizer_train = len(train_loader.dataset)\n",
    "        total_epoch_loss_train = epoch_loss / normalizer_train\n",
    "        train_elbo.append(total_epoch_loss_train)\n",
    "        print(\"[epoch %03d]  average training loss: %.4f\" %\n",
    "             (epoch, total_epoch_loss_train))\n",
    "\n",
    "# NUM_EPOCHS = 1 if smoke_test else 100\n",
    "# TEST_FREQUENCY = 5    \n",
    "        \n",
    "# train_elbo = []\n",
    "# test_elbo = []\n",
    "# # training loop\n",
    "# for epoch in range(NUM_EPOCHS):\n",
    "#     total_epoch_loss_train = train(svi, train_loader, use_cuda=USE_CUDA)\n",
    "#     train_elbo.append(-total_epoch_loss_train)\n",
    "#     print(\"[epoch %03d]  average training loss: %.4f\" % (epoch, total_epoch_loss_train))\n",
    "\n",
    "#     if epoch % TEST_FREQUENCY == 0:\n",
    "#         # report test diagnostics\n",
    "#         total_epoch_loss_test = evaluate(svi, test_loader, use_cuda=USE_CUDA)\n",
    "#         test_elbo.append(-total_epoch_loss_test)\n",
    "#         print(\"[epoch %03d] average test loss: %.4f\" % (epoch, total_epoch_loss_test))"
   ]
  },
  {
   "cell_type": "code",
   "execution_count": null,
   "metadata": {},
   "outputs": [],
   "source": [
    "plt.figure(figsize=(15, 9))\n",
    "plt.plot([i for i in range(len(train_elbo))], train_elbo)\n",
    "plt.xlabel(\"Epoch\")\n",
    "plt.ylabel(\"ELBO loss\")"
   ]
  },
  {
   "cell_type": "code",
   "execution_count": 759,
   "metadata": {},
   "outputs": [
    {
     "name": "stdout",
     "output_type": "stream",
     "text": [
      "encoder$$$fc1.weight\n",
      "encoder$$$fc1.bias\n",
      "encoder$$$fc21.weight\n",
      "encoder$$$fc21.bias\n",
      "encoder$$$fc22.weight\n",
      "encoder$$$fc22.bias\n",
      "scale_0\n",
      "scale_1\n",
      "scale_2\n",
      "scale_3\n",
      "scale_4\n",
      "scale_5\n",
      "scale_6\n",
      "scale_7\n",
      "scale_8\n",
      "scale_9\n"
     ]
    }
   ],
   "source": [
    "count = 0\n",
    "for name, value in pyro.get_param_store().items():\n",
    "    print(name)"
   ]
  },
  {
   "cell_type": "code",
   "execution_count": 760,
   "metadata": {},
   "outputs": [
    {
     "data": {
      "text/plain": [
       "Encoder(\n",
       "  (fc1): Linear(in_features=2500, out_features=250, bias=True)\n",
       "  (fc21): Linear(in_features=250, out_features=5, bias=True)\n",
       "  (fc22): Linear(in_features=250, out_features=15, bias=True)\n",
       "  (softplus): Softplus(beta=1, threshold=20)\n",
       ")"
      ]
     },
     "execution_count": 760,
     "metadata": {},
     "output_type": "execute_result"
    }
   ],
   "source": [
    "vae.encoder.eval()"
   ]
  },
  {
   "cell_type": "code",
   "execution_count": 762,
   "metadata": {},
   "outputs": [
    {
     "data": {
      "text/plain": [
       "(tensor([[ 0.5175,  0.5493, -0.1156,  0.7151,  0.2803]],\n",
       "        grad_fn=<AddmmBackward0>),\n",
       " tensor([[[ 0.0005, -0.0003, -0.0002,  0.0019,  0.0019],\n",
       "          [-0.0003,  0.0342,  0.0021,  0.0104,  0.0060],\n",
       "          [-0.0002,  0.0021,  0.0004, -0.0018, -0.0020],\n",
       "          [ 0.0019,  0.0104, -0.0018,  0.0604,  0.0285],\n",
       "          [ 0.0019,  0.0060, -0.0020,  0.0285,  0.0593]]],\n",
       "        grad_fn=<AddBackward0>))"
      ]
     },
     "execution_count": 762,
     "metadata": {},
     "output_type": "execute_result"
    }
   ],
   "source": [
    "X[0].shape\n",
    "vae.encoder.forward(X[0].unsqueeze(0))"
   ]
  },
  {
   "cell_type": "code",
   "execution_count": 763,
   "metadata": {},
   "outputs": [
    {
     "data": {
      "text/plain": [
       "tensor([ 0.6586,  0.6002, -0.6715,  1.0164,  0.6153], dtype=torch.float64)"
      ]
     },
     "execution_count": 763,
     "metadata": {},
     "output_type": "execute_result"
    }
   ],
   "source": [
    "means[0]"
   ]
  },
  {
   "cell_type": "code",
   "execution_count": 765,
   "metadata": {},
   "outputs": [
    {
     "data": {
      "text/plain": [
       "tensor([[0.1027, 0.0814, 0.1489, 0.0659, 0.1382],\n",
       "        [0.0814, 0.1473, 0.2139, 0.1397, 0.2136],\n",
       "        [0.1489, 0.2139, 0.5736, 0.0636, 0.2113],\n",
       "        [0.0659, 0.1397, 0.0636, 0.2158, 0.2671],\n",
       "        [0.1382, 0.2136, 0.2113, 0.2671, 0.3754]], dtype=torch.float64)"
      ]
     },
     "execution_count": 765,
     "metadata": {},
     "output_type": "execute_result"
    }
   ],
   "source": [
    "sigma_0s[0]"
   ]
  },
  {
   "cell_type": "code",
   "execution_count": 768,
   "metadata": {},
   "outputs": [
    {
     "data": {
      "text/plain": [
       "(tensor([[ 0.3845, -0.2769, -0.1771,  0.5380,  0.2525]],\n",
       "        grad_fn=<AddmmBackward0>),\n",
       " tensor([[[ 0.0198,  0.0007, -0.0150,  0.0210,  0.0430],\n",
       "          [ 0.0007,  0.1966,  0.1053,  0.0098,  0.1318],\n",
       "          [-0.0150,  0.1053,  0.3383,  0.3370,  0.1371],\n",
       "          [ 0.0210,  0.0098,  0.3370,  0.6337,  0.1409],\n",
       "          [ 0.0430,  0.1318,  0.1371,  0.1409,  0.2276]]],\n",
       "        grad_fn=<AddBackward0>))"
      ]
     },
     "execution_count": 768,
     "metadata": {},
     "output_type": "execute_result"
    }
   ],
   "source": [
    "# random_means = np.random.sample(size=5) \n",
    "# x_i, y = multivar_random(5, random_means, [1,1,1,1], num_samples=500)[:2]\n",
    "x_i, mu_vector, sigma, sigma_0 = multivar_random(5, [0] * 5, [.5]*4, 500)\n",
    "\n",
    "vae.encoder.forward(x_i.reshape(1, 500, 5))"
   ]
  },
  {
   "cell_type": "code",
   "execution_count": 769,
   "metadata": {},
   "outputs": [
    {
     "data": {
      "text/plain": [
       "tensor([ 0.1331, -0.3002,  0.0038,  0.3147, -0.0914], dtype=torch.float64)"
      ]
     },
     "execution_count": 769,
     "metadata": {},
     "output_type": "execute_result"
    }
   ],
   "source": [
    "post_mean = get_posterior_mean_mv_gaussian(50, sigma, sigma_0, mu_vector, x_i)\n",
    "post_mean"
   ]
  },
  {
   "cell_type": "code",
   "execution_count": 770,
   "metadata": {},
   "outputs": [
    {
     "data": {
      "text/plain": [
       "tensor([[ 7.9513e-03, -8.7204e-05, -1.4412e-04, -1.3693e-03,  2.0596e-03],\n",
       "        [-8.7204e-05,  5.5606e-03,  8.4741e-05,  4.8326e-04,  7.2660e-04],\n",
       "        [-1.4412e-04,  8.4741e-05,  3.4021e-05,  2.2387e-04,  6.7872e-06],\n",
       "        [-1.3693e-03,  4.8326e-04,  2.2387e-04,  2.0614e-03,  1.0721e-04],\n",
       "        [ 2.0596e-03,  7.2660e-04,  6.7872e-06,  1.0721e-04,  1.0570e-03]],\n",
       "       dtype=torch.float64)"
      ]
     },
     "execution_count": 770,
     "metadata": {},
     "output_type": "execute_result"
    }
   ],
   "source": [
    "post_sigma = get_posterior_cov_mv_gaussian(50, sigma, sigma_0)\n",
    "post_sigma"
   ]
  },
  {
   "cell_type": "code",
   "execution_count": 689,
   "metadata": {},
   "outputs": [],
   "source": [
    "# write a function to find this exact posterior \n",
    "\n",
    "def get_posterior_cov_mv_gaussian(n, sigma, sigma_0):\n",
    "    sum_part = sigma_0 + 1/n * sigma\n",
    "    sum_part = np.linalg.inv(sum_part)\n",
    "    p1 = np.matmul(sigma_0, sum_part)\n",
    "    p2 = np.matmul(p1, 1/n * sigma)\n",
    "    return(p2)\n",
    "\n",
    "def get_posterior_mean_mv_gaussian(n, sigma, sigma_0, mu_0, data):\n",
    "    sum_part = sigma_0 + 1/n * sigma\n",
    "    sum_part = np.linalg.inv(sum_part)\n",
    "    \n",
    "    middle_part = data.mean(axis=0)\n",
    "    \n",
    "    p1 = np.matmul(sigma_0, sum_part)\n",
    "    p2 = np.matmul(p1, middle_part)\n",
    "    \n",
    "    p3 = np.matmul(1/n * sigma, sum_part)\n",
    "    p4 = np.matmul(p3, mu_0)\n",
    "    return(p2 + p4)"
   ]
  },
  {
   "cell_type": "code",
   "execution_count": 8,
   "metadata": {},
   "outputs": [],
   "source": [
    "def multivar_random(size, normal_params, gamma_params, num_samples):   \n",
    "\n",
    "    # simulate two random covariance matrices (PSD) for sigma and sigma_0\n",
    "    mat = np.random.gamma(gamma_params[0], gamma_params[1], size=size**2).reshape((size, size))\n",
    "    sigma_mat = torch.tensor(np.dot(mat, mat.transpose()))\n",
    "    \n",
    "    mat_0 = np.random.gamma(gamma_params[2], gamma_params[3], size=size**2).reshape((size, size))\n",
    "    sigma_mat_0 = torch.tensor(np.dot(mat_0, mat_0.transpose()))\n",
    "    \n",
    "    # simulate some random means\n",
    "    mu_vector = torch.tensor(np.random.multivariate_normal(normal_params, sigma_mat_0, size=1))[0]\n",
    "\n",
    "    # now simulate multivariate gaussian\n",
    "    data = torch.tensor(np.random.multivariate_normal(mu_vector, sigma_mat, size=num_samples).astype(\"float32\"))\n",
    "    \n",
    "    return(data, mu_vector, sigma_mat, sigma_mat_0)"
   ]
  },
  {
   "cell_type": "code",
   "execution_count": 9,
   "metadata": {},
   "outputs": [
    {
     "ename": "NameError",
     "evalue": "name 'train_loader' is not defined",
     "output_type": "error",
     "traceback": [
      "\u001b[1;31m---------------------------------------------------------------------------\u001b[0m",
      "\u001b[1;31mNameError\u001b[0m                                 Traceback (most recent call last)",
      "\u001b[1;32m<ipython-input-9-05ed183301c1>\u001b[0m in \u001b[0;36m<module>\u001b[1;34m\u001b[0m\n\u001b[1;32m----> 1\u001b[1;33m \u001b[0mtrain_loader\u001b[0m\u001b[1;33m\u001b[0m\u001b[1;33m\u001b[0m\u001b[0m\n\u001b[0m",
      "\u001b[1;31mNameError\u001b[0m: name 'train_loader' is not defined"
     ]
    }
   ],
   "source": [
    "train_loader"
   ]
  },
  {
   "cell_type": "code",
   "execution_count": null,
   "metadata": {
    "colab": {
     "base_uri": "https://localhost:8080/"
    },
    "id": "p3C-Jsl29PDY",
    "outputId": "725bc1f5-9eec-4e43-d1a6-6fbc1f619e3b"
   },
   "outputs": [],
   "source": [
    "# clear param store\n",
    "pyro.clear_param_store()\n",
    "\n",
    "no_instances = 20000\n",
    "input_dim = 2\n",
    "mu = stats.norm.rvs(size=input_dim)\n",
    "\n",
    "# Generate a positive definite matrix\n",
    "sigma = stats.norm.rvs(size=(input_dim, input_dim))\n",
    "sigma[np.triu_indices(input_dim)] = 0\n",
    "sigma += np.diag(np.abs(stats.norm.rvs(size=input_dim)))\n",
    "sigma = np.matmul(sigma.transpose(), sigma) # inverse cholesky decomposition\n",
    "\n",
    "dataset = stats.multivariate_normal.rvs(mu, sigma, size=no_instances)\n",
    "dataset = torch.as_tensor(dataset, dtype=torch.float32)\n",
    "dataset = TensorDataset(dataset)\n",
    "train_loader = DataLoader(dataset, batch_size=1000, shuffle=True,\n",
    "     num_workers=1, pin_memory=True, drop_last=False)\n",
    "\n",
    "# setup the VAE\n",
    "vae = VAE(use_cuda=False, input_dim=input_dim, z_dim=2)\n",
    "\n",
    "adam_args = {\"lr\": 0.001}\n",
    "optimizer = Adam(adam_args)\n",
    "\n",
    "# setup the inference algorithm\n",
    "svi = SVI(vae.model, vae.guide, optimizer, loss=Trace_ELBO())\n",
    "\n",
    "train_elbo = []\n",
    "for epoch in range(100):\n",
    "    # initialize loss accumulator\n",
    "    epoch_loss = 0.\n",
    "    # do a training epoch over each mini-batch x returned\n",
    "    # by the data loader\n",
    "    for x, in train_loader:\n",
    "        #x = x.cuda()\n",
    "        epoch_loss += svi.step(x)\n",
    "\n",
    "    # report training diagnostics\n",
    "    if not epoch % 10:\n",
    "        normalizer_train = len(train_loader.dataset)\n",
    "        total_epoch_loss_train = epoch_loss / normalizer_train\n",
    "        train_elbo.append(total_epoch_loss_train)\n",
    "        print(\"[epoch %03d]  average training loss: %.4f\" %\n",
    "             (epoch, total_epoch_loss_train))"
   ]
  },
  {
   "cell_type": "code",
   "execution_count": 64,
   "metadata": {},
   "outputs": [
    {
     "ename": "NameError",
     "evalue": "name 'sigma' is not defined",
     "output_type": "error",
     "traceback": [
      "\u001b[1;31m---------------------------------------------------------------------------\u001b[0m",
      "\u001b[1;31mNameError\u001b[0m                                 Traceback (most recent call last)",
      "\u001b[1;32m<ipython-input-64-3b93b1e6f520>\u001b[0m in \u001b[0;36m<module>\u001b[1;34m\u001b[0m\n\u001b[1;32m----> 1\u001b[1;33m \u001b[0mtest\u001b[0m \u001b[1;33m=\u001b[0m \u001b[0mstats\u001b[0m\u001b[1;33m.\u001b[0m\u001b[0mmultivariate_normal\u001b[0m\u001b[1;33m.\u001b[0m\u001b[0mrvs\u001b[0m\u001b[1;33m(\u001b[0m\u001b[0mmu\u001b[0m\u001b[1;33m,\u001b[0m \u001b[0msigma\u001b[0m\u001b[1;33m,\u001b[0m \u001b[0msize\u001b[0m\u001b[1;33m=\u001b[0m\u001b[0mno_instances\u001b[0m\u001b[1;33m)\u001b[0m\u001b[1;33m\u001b[0m\u001b[1;33m\u001b[0m\u001b[0m\n\u001b[0m\u001b[0;32m      2\u001b[0m \u001b[0mtest\u001b[0m \u001b[1;33m=\u001b[0m \u001b[0mtorch\u001b[0m\u001b[1;33m.\u001b[0m\u001b[0mas_tensor\u001b[0m\u001b[1;33m(\u001b[0m\u001b[0mtest\u001b[0m\u001b[1;33m,\u001b[0m \u001b[0mdtype\u001b[0m\u001b[1;33m=\u001b[0m\u001b[0mtorch\u001b[0m\u001b[1;33m.\u001b[0m\u001b[0mfloat32\u001b[0m\u001b[1;33m)\u001b[0m\u001b[1;33m\u001b[0m\u001b[1;33m\u001b[0m\u001b[0m\n\u001b[0;32m      3\u001b[0m \u001b[0mvae\u001b[0m\u001b[1;33m.\u001b[0m\u001b[0mencoder\u001b[0m\u001b[1;33m(\u001b[0m\u001b[0mtest\u001b[0m\u001b[1;33m)\u001b[0m\u001b[1;33m[\u001b[0m\u001b[1;36m0\u001b[0m\u001b[1;33m]\u001b[0m\u001b[1;33m\u001b[0m\u001b[1;33m\u001b[0m\u001b[0m\n",
      "\u001b[1;31mNameError\u001b[0m: name 'sigma' is not defined"
     ]
    }
   ],
   "source": [
    "test = stats.multivariate_normal.rvs(mu, sigma, size=no_instances)\n",
    "test = torch.as_tensor(test, dtype=torch.float32)\n",
    "vae.encoder(test)[0]"
   ]
  },
  {
   "cell_type": "code",
   "execution_count": null,
   "metadata": {},
   "outputs": [],
   "source": [
    "no_instances"
   ]
  },
  {
   "cell_type": "code",
   "execution_count": null,
   "metadata": {
    "colab": {
     "base_uri": "https://localhost:8080/"
    },
    "id": "NMKvCl619rU9",
    "outputId": "45b56d09-63fb-4a95-b7a3-5dcf4047ba79"
   },
   "outputs": [],
   "source": [
    "# Generating new instances (replications) from the trained VAE\n",
    "new_instances = vae.new_instances(100000)\n",
    "\n",
    "print(\"True means\")\n",
    "print(mu)\n",
    "print(\"Empirical means of replications:\")\n",
    "print(new_instances.mean(0))\n",
    "\n",
    "print(\"----------------------------------------\")\n",
    "\n",
    "print(\"True covariance matrix\")\n",
    "print(sigma)\n",
    "print(\"Empirical covariance matrix of replications:\")\n",
    "print(np.cov(new_instances, rowvar=False))"
   ]
  },
  {
   "cell_type": "code",
   "execution_count": null,
   "metadata": {
    "id": "as-FF9CU9tu0"
   },
   "outputs": [],
   "source": [
    "# clear param store\n",
    "pyro.clear_param_store()\n",
    "loc = 5\n",
    "scale = 20\n",
    "data = torch.tensor(np.random.normal(loc=loc, scale=scale, size=1000))\n",
    "dataset = TensorDataset(data)\n",
    "train_loader = DataLoader(dataset, batch_size=1000, shuffle=True,\n",
    "     num_workers=1, pin_memory=True, drop_last=False)\n",
    "\n",
    "# setup the VAE\n",
    "vae = VAE(use_cuda=False, input_dim=input_dim)\n",
    "\n",
    "adam_args = {\"lr\": 0.001}\n",
    "optimizer = Adam(adam_args)\n",
    "\n",
    "# setup the inference algorithm\n",
    "svi = SVI(vae.model, vae.guide, optimizer, loss=Trace_ELBO())\n",
    "\n",
    "train_elbo = []\n",
    "for epoch in range(100):\n",
    "    # initialize loss accumulator\n",
    "    epoch_loss = 0.\n",
    "    # do a training epoch over each mini-batch x returned\n",
    "    # by the data loader\n",
    "    for x, in train_loader:\n",
    "        #x = x.cuda()\n",
    "        epoch_loss += svi.step(x)\n",
    "\n",
    "    # report training diagnostics\n",
    "    if not epoch % 10:\n",
    "        normalizer_train = len(train_loader.dataset)\n",
    "        total_epoch_loss_train = epoch_loss / normalizer_train\n",
    "        train_elbo.append(total_epoch_loss_train)\n",
    "        print(\"[epoch %03d]  average training loss: %.4f\" %\n",
    "             (epoch, total_epoch_loss_train))"
   ]
  }
 ],
 "metadata": {
  "colab": {
   "collapsed_sections": [],
   "name": "BivariateAVI.ipynb",
   "provenance": []
  },
  "kernelspec": {
   "display_name": "Python 3",
   "language": "python",
   "name": "python3"
  }
 },
 "nbformat": 4,
 "nbformat_minor": 1
}
