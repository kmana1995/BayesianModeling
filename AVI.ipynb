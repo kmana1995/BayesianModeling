{
  "nbformat": 4,
  "nbformat_minor": 0,
  "metadata": {
    "colab": {
      "name": "BivariateAVI.ipynb",
      "provenance": [],
      "collapsed_sections": []
    },
    "kernelspec": {
      "name": "python3",
      "display_name": "Python 3"
    },
    "language_info": {
      "name": "python"
    }
  },
  "cells": [
    {
      "cell_type": "code",
      "execution_count": null,
      "metadata": {
        "colab": {
          "base_uri": "https://localhost:8080/"
        },
        "id": "EFqz2KuG9ALG",
        "outputId": "e8855c8d-bab4-4222-e2fe-58277a384949"
      },
      "outputs": [
        {
          "output_type": "stream",
          "name": "stdout",
          "text": [
            "Collecting pyro-ppl\n",
            "  Downloading pyro_ppl-1.8.1-py3-none-any.whl (718 kB)\n",
            "\u001b[K     |████████████████████████████████| 718 kB 5.0 MB/s \n",
            "\u001b[?25hCollecting pyro-api>=0.1.1\n",
            "  Downloading pyro_api-0.1.2-py3-none-any.whl (11 kB)\n",
            "Collecting torch>=1.11.0\n",
            "  Downloading torch-1.11.0-cp37-cp37m-manylinux1_x86_64.whl (750.6 MB)\n",
            "\u001b[K     |████████████████████████████████| 750.6 MB 10 kB/s \n",
            "\u001b[?25hRequirement already satisfied: opt-einsum>=2.3.2 in /usr/local/lib/python3.7/dist-packages (from pyro-ppl) (3.3.0)\n",
            "Requirement already satisfied: numpy>=1.7 in /usr/local/lib/python3.7/dist-packages (from pyro-ppl) (1.21.5)\n",
            "Requirement already satisfied: tqdm>=4.36 in /usr/local/lib/python3.7/dist-packages (from pyro-ppl) (4.63.0)\n",
            "Requirement already satisfied: typing-extensions in /usr/local/lib/python3.7/dist-packages (from torch>=1.11.0->pyro-ppl) (3.10.0.2)\n",
            "Installing collected packages: torch, pyro-api, pyro-ppl\n",
            "  Attempting uninstall: torch\n",
            "    Found existing installation: torch 1.10.0+cu111\n",
            "    Uninstalling torch-1.10.0+cu111:\n",
            "      Successfully uninstalled torch-1.10.0+cu111\n",
            "\u001b[31mERROR: pip's dependency resolver does not currently take into account all the packages that are installed. This behaviour is the source of the following dependency conflicts.\n",
            "torchvision 0.11.1+cu111 requires torch==1.10.0, but you have torch 1.11.0 which is incompatible.\n",
            "torchtext 0.11.0 requires torch==1.10.0, but you have torch 1.11.0 which is incompatible.\n",
            "torchaudio 0.10.0+cu111 requires torch==1.10.0, but you have torch 1.11.0 which is incompatible.\u001b[0m\n",
            "Successfully installed pyro-api-0.1.2 pyro-ppl-1.8.1 torch-1.11.0\n"
          ]
        },
        {
          "output_type": "stream",
          "name": "stderr",
          "text": [
            "INFO:numexpr.utils:NumExpr defaulting to 2 threads.\n",
            "/usr/local/lib/python3.7/dist-packages/statsmodels/tools/_testing.py:19: FutureWarning: pandas.util.testing is deprecated. Use the functions in the public API at pandas.testing instead.\n",
            "  import pandas.util.testing as tm\n"
          ]
        }
      ],
      "source": [
        "!pip install pyro-ppl\n",
        "import pyro\n",
        "import pyro.distributions as dist\n",
        "from pyro.infer.mcmc import MCMC, HMC, NUTS\n",
        "from pyro.optim import Adam\n",
        "from pyro.infer import SVI, Trace_ELBO\n",
        "import torch.distributions.constraints as constraints\n",
        "\n",
        "import pystan\n",
        "\n",
        "from statsmodels.distributions.empirical_distribution import ECDF\n",
        "from sklearn.neighbors import KernelDensity\n",
        "from sklearn.model_selection import GridSearchCV, ShuffleSplit\n",
        "import scipy.stats.kde as kde\n",
        "\n",
        "import numpy as np\n",
        "import scipy.stats as stats\n",
        "import pandas as pd\n",
        "\n",
        "import matplotlib.pyplot as plt\n",
        "import pandas as pd\n",
        "\n",
        "import torch\n",
        "from torch import Tensor\n",
        "import torch.nn as nn\n",
        "import torch.nn.functional as F\n",
        "import torch.optim as optim\n",
        "from torch.utils.data import DataLoader, TensorDataset\n",
        "\n",
        "%matplotlib inline"
      ]
    },
    {
      "cell_type": "code",
      "source": [
        "assert pyro.__version__.startswith('1.8.1')\n",
        "pyro.distributions.enable_validation(False)\n",
        "pyro.set_rng_seed(0)\n",
        "# Enable smoke test - run the notebook cells on CI.\n",
        "#smoke_test = 'CI' in os.environ"
      ],
      "metadata": {
        "id": "g4kNxQ279CX_"
      },
      "execution_count": null,
      "outputs": []
    },
    {
      "cell_type": "code",
      "source": [
        "nn_decoder = nn.Sequential(nn.Linear(20, 100), nn.Softplus(), nn.Linear(100, 784), nn.Sigmoid())"
      ],
      "metadata": {
        "id": "55Ur-Emx9I6L"
      },
      "execution_count": null,
      "outputs": []
    },
    {
      "cell_type": "code",
      "source": [
        "device = torch.device('cpu')\n",
        "if torch.cuda.is_available():\n",
        "    device = torch.device('cuda:0')"
      ],
      "metadata": {
        "id": "KDad75Yq9Lh8"
      },
      "execution_count": null,
      "outputs": []
    },
    {
      "cell_type": "code",
      "source": [
        "# define the PyTorch module that parameterizes the\n",
        "# diagonal gaussian distribution q(z|x)\n",
        "class Encoder(nn.Module):\n",
        "    def __init__(self, z_dim, hidden_dim, input_dim):\n",
        "        super(Encoder, self).__init__()\n",
        "        # setup the three linear transformations used\n",
        "        self.fc1 = nn.Linear(input_dim, hidden_dim)\n",
        "        self.fc21 = nn.Linear(hidden_dim, z_dim)\n",
        "        self.fc22 = nn.Linear(hidden_dim, z_dim)\n",
        "        # setup the non-linearities\n",
        "        self.softplus = nn.Softplus()\n",
        "\n",
        "    def forward(self, x):\n",
        "        # then compute the hidden units\n",
        "        hidden = self.softplus(self.fc1(x))\n",
        "        # then return a mean vector and a (positive) square root covariance\n",
        "        # each of size batch_size x z_dim\n",
        "        z_loc = self.fc21(hidden)\n",
        "        z_scale = torch.exp(self.fc22(hidden))\n",
        "        return z_loc, z_scale\n",
        "\n",
        "\n",
        "# define the PyTorch module that parameterizes the\n",
        "# observation likelihood p(x|z)\n",
        "class Decoder(nn.Module):\n",
        "    def __init__(self, z_dim, hidden_dim, input_dim):\n",
        "        super(Decoder, self).__init__()\n",
        "        # setup the two linear transformations used\n",
        "        self.fc1 = nn.Linear(z_dim, hidden_dim)\n",
        "        self.fc21 = nn.Linear(hidden_dim, input_dim)\n",
        "        self.fc22 = nn.Linear(hidden_dim, input_dim)\n",
        "        # setup the non-linearities\n",
        "        self.softplus = nn.Softplus()\n",
        "\n",
        "    def forward(self, z):\n",
        "        # define the forward computation on the latent z\n",
        "        # first compute the hidden units\n",
        "        hidden = self.softplus(self.fc1(z))\n",
        "\n",
        "        mu = self.fc21(hidden)\n",
        "        sigma = torch.exp(self.fc22(hidden))\n",
        "        return mu, sigma\n",
        "\n",
        "\n",
        "# define a PyTorch module for the VAE\n",
        "class VAE(nn.Module):\n",
        "    # by default our latent space is 50-dimensional\n",
        "    # and we use 400 hidden units\n",
        "    def __init__(self, input_dim,\n",
        "        z_dim=50, hidden_dim=400, use_cuda=False):\n",
        "        super(VAE, self).__init__()\n",
        "        # create the encoder and decoder networks\n",
        "        self.encoder = Encoder(z_dim, hidden_dim, input_dim=input_dim)\n",
        "        self.decoder = Decoder(z_dim, hidden_dim, input_dim=input_dim)\n",
        "\n",
        "        if use_cuda:\n",
        "            # calling cuda() here will put all the parameters of\n",
        "            # the encoder and decoder networks into gpu memory\n",
        "            self.cuda()\n",
        "        self.use_cuda = use_cuda\n",
        "        self.z_dim = z_dim\n",
        "\n",
        "    # define the model p(x|z)p(z)\n",
        "    def model(self, x):\n",
        "        # register PyTorch module `decoder` with Pyro\n",
        "        pyro.module(\"decoder\", self.decoder)\n",
        "        with pyro.plate(\"data\", x.shape[0]):\n",
        "            # setup hyperparameters for prior p(z)\n",
        "            z_loc = torch.zeros(x.shape[0], self.z_dim, dtype=x.dtype, device=x.device)\n",
        "            z_scale = torch.ones(x.shape[0], self.z_dim, dtype=x.dtype, device=x.device)\n",
        "            # sample from prior (value will be sampled by guide when computing the ELBO)\n",
        "            z = pyro.sample(\"latent\", dist.Normal(z_loc, z_scale).to_event(1))\n",
        "            # decode the latent code z\n",
        "            mu, sigma = self.decoder.forward(z)\n",
        "            # score against actual images\n",
        "            pyro.sample(\"obs\", dist.Normal(mu, sigma).to_event(1), obs=x)\n",
        "            # return the loc so we can visualize it later\n",
        "            #return loc_img\n",
        "\n",
        "    # define the guide (i.e. variational distribution) q(z|x)\n",
        "    def guide(self, x):\n",
        "        # register PyTorch module `encoder` with Pyro\n",
        "        pyro.module(\"encoder\", self.encoder)\n",
        "        with pyro.plate(\"data\", x.shape[0]):\n",
        "            # use the encoder to get the parameters used to define q(z|x)\n",
        "            z_loc, z_scale = self.encoder.forward(x)\n",
        "            # sample the latent code z\n",
        "            pyro.sample(\"latent\", dist.Normal(z_loc, z_scale).to_event(1))\n",
        "\n",
        "    # define a helper function for reconstructing images\n",
        "    def reconstruct_img(self, x):\n",
        "        # encode image x\n",
        "        z_loc, z_scale = self.encoder(x)\n",
        "        # sample in latent space\n",
        "        z = dist.Normal(z_loc, z_scale).sample()\n",
        "        # decode the image (note we don't sample in image space)\n",
        "        loc_img = self.decoder(z)\n",
        "        return loc_img\n",
        "\n",
        "    def new_instances(self, size=1):\n",
        "         z = stats.norm.rvs(size=(size, self.z_dim))\n",
        "         mu, sigma = self.decoder.forward(torch.as_tensor(z, dtype=torch.float32))\n",
        "         return stats.norm.rvs(mu.data.cpu().numpy(), sigma.data.cpu().numpy())"
      ],
      "metadata": {
        "id": "AR_D7Xoe9NkP"
      },
      "execution_count": null,
      "outputs": []
    },
    {
      "cell_type": "code",
      "source": [
        "# clear param store\n",
        "pyro.clear_param_store()\n",
        "\n",
        "no_instances = 20000\n",
        "input_dim = 2\n",
        "mu = stats.norm.rvs(size=input_dim)\n",
        "\n",
        "# Generate a positive definite matrix\n",
        "sigma = stats.norm.rvs(size=(input_dim, input_dim))\n",
        "sigma[np.triu_indices(input_dim)] = 0\n",
        "sigma += np.diag(np.abs(stats.norm.rvs(size=input_dim)))\n",
        "sigma = np.matmul(sigma.transpose(), sigma) # inverse cholesky decomposition\n",
        "\n",
        "dataset = stats.multivariate_normal.rvs(mu, sigma, size=no_instances)\n",
        "dataset = torch.as_tensor(dataset, dtype=torch.float32)\n",
        "dataset = TensorDataset(dataset)\n",
        "train_loader = DataLoader(dataset, batch_size=1000, shuffle=True,\n",
        "     num_workers=1, pin_memory=True, drop_last=False)\n",
        "\n",
        "# setup the VAE\n",
        "vae = VAE(use_cuda=False, input_dim=input_dim)\n",
        "\n",
        "adam_args = {\"lr\": 0.001}\n",
        "optimizer = Adam(adam_args)\n",
        "\n",
        "# setup the inference algorithm\n",
        "svi = SVI(vae.model, vae.guide, optimizer, loss=Trace_ELBO())\n",
        "\n",
        "train_elbo = []\n",
        "for epoch in range(100):\n",
        "    # initialize loss accumulator\n",
        "    epoch_loss = 0.\n",
        "    # do a training epoch over each mini-batch x returned\n",
        "    # by the data loader\n",
        "    for x, in train_loader:\n",
        "        #x = x.cuda()\n",
        "        epoch_loss += svi.step(x)\n",
        "\n",
        "    # report training diagnostics\n",
        "    if not epoch % 10:\n",
        "        normalizer_train = len(train_loader.dataset)\n",
        "        total_epoch_loss_train = epoch_loss / normalizer_train\n",
        "        train_elbo.append(total_epoch_loss_train)\n",
        "        print(\"[epoch %03d]  average training loss: %.4f\" %\n",
        "             (epoch, total_epoch_loss_train))"
      ],
      "metadata": {
        "colab": {
          "base_uri": "https://localhost:8080/"
        },
        "id": "p3C-Jsl29PDY",
        "outputId": "725bc1f5-9eec-4e43-d1a6-6fbc1f619e3b"
      },
      "execution_count": null,
      "outputs": [
        {
          "output_type": "stream",
          "name": "stdout",
          "text": [
            "[epoch 000]  average training loss: 8.8521\n",
            "[epoch 010]  average training loss: 1.7706\n",
            "[epoch 020]  average training loss: 1.6859\n",
            "[epoch 030]  average training loss: 1.1602\n",
            "[epoch 040]  average training loss: 1.1445\n",
            "[epoch 050]  average training loss: 1.1432\n",
            "[epoch 060]  average training loss: 1.1493\n",
            "[epoch 070]  average training loss: 1.2238\n",
            "[epoch 080]  average training loss: 1.1360\n",
            "[epoch 090]  average training loss: 1.1301\n"
          ]
        }
      ]
    },
    {
      "cell_type": "code",
      "source": [
        "# Generating new instances (replications) from the trained VAE\n",
        "new_instances = vae.new_instances(100000)\n",
        "\n",
        "print(\"True means\")\n",
        "print(mu)\n",
        "print(\"Empirical means of replications:\")\n",
        "print(new_instances.mean(0))\n",
        "\n",
        "print(\"----------------------------------------\")\n",
        "\n",
        "print(\"True covariance matrix\")\n",
        "print(sigma)\n",
        "print(\"Empirical covariance matrix of replications:\")\n",
        "print(np.cov(new_instances, rowvar=False))"
      ],
      "metadata": {
        "colab": {
          "base_uri": "https://localhost:8080/"
        },
        "id": "NMKvCl619rU9",
        "outputId": "45b56d09-63fb-4a95-b7a3-5dcf4047ba79"
      },
      "execution_count": null,
      "outputs": [
        {
          "output_type": "stream",
          "name": "stdout",
          "text": [
            "True means\n",
            "[1.76405235 0.40015721]\n",
            "Empirical means of replications:\n",
            "[1.79256873 0.38945621]\n",
            "----------------------------------------\n",
            "True covariance matrix\n",
            "[[4.39044085 0.28266836]\n",
            " [0.28266836 0.022909  ]]\n",
            "Empirical covariance matrix of replications:\n",
            "[[4.35286066 0.27420462]\n",
            " [0.27420462 0.02251987]]\n"
          ]
        }
      ]
    },
    {
      "cell_type": "code",
      "source": [
        "# clear param store\n",
        "pyro.clear_param_store()\n",
        "data = torch.tensor(np.random.normal(loc=loc, scale=scale, size=1000))\n",
        "dataset = TensorDataset(data)\n",
        "train_loader = DataLoader(dataset, batch_size=1000, shuffle=True,\n",
        "     num_workers=1, pin_memory=True, drop_last=False)\n",
        "\n",
        "# setup the VAE\n",
        "vae = VAE(use_cuda=False, input_dim=input_dim)\n",
        "\n",
        "adam_args = {\"lr\": 0.001}\n",
        "optimizer = Adam(adam_args)\n",
        "\n",
        "# setup the inference algorithm\n",
        "svi = SVI(vae.model, vae.guide, optimizer, loss=Trace_ELBO())\n",
        "\n",
        "train_elbo = []\n",
        "for epoch in range(100):\n",
        "    # initialize loss accumulator\n",
        "    epoch_loss = 0.\n",
        "    # do a training epoch over each mini-batch x returned\n",
        "    # by the data loader\n",
        "    for x, in train_loader:\n",
        "        #x = x.cuda()\n",
        "        epoch_loss += svi.step(x)\n",
        "\n",
        "    # report training diagnostics\n",
        "    if not epoch % 10:\n",
        "        normalizer_train = len(train_loader.dataset)\n",
        "        total_epoch_loss_train = epoch_loss / normalizer_train\n",
        "        train_elbo.append(total_epoch_loss_train)\n",
        "        print(\"[epoch %03d]  average training loss: %.4f\" %\n",
        "             (epoch, total_epoch_loss_train))"
      ],
      "metadata": {
        "id": "as-FF9CU9tu0"
      },
      "execution_count": null,
      "outputs": []
    }
  ]
}