{
  "nbformat": 4,
  "nbformat_minor": 0,
  "metadata": {
    "colab": {
      "name": "linear_regression_AVI.ipynb",
      "provenance": [],
      "collapsed_sections": []
    },
    "kernelspec": {
      "name": "python3",
      "display_name": "Python 3"
    },
    "language_info": {
      "name": "python"
    }
  },
  "cells": [
    {
      "cell_type": "code",
      "execution_count": 14,
      "metadata": {
        "id": "M9-I3JtBuwUf"
      },
      "outputs": [],
      "source": [
        "import numpy as np\n",
        "import torch\n",
        "from torch import nn\n",
        "from sklearn import datasets\n",
        "import matplotlib.pyplot as plt\n",
        "\n",
        "w0 = 0.125\n",
        "b0 = 5.\n",
        "x_range = [-20, 60]\n",
        "\n",
        "def load_dataset(n=150, n_tst=150):\n",
        "    np.random.seed(43)\n",
        "\n",
        "    def s(x):\n",
        "        g = (x - x_range[0]) / (x_range[1] - x_range[0])\n",
        "        return 3 * (0.25 + g**2.)\n",
        "\n",
        "    x = (x_range[1] - x_range[0]) * np.random.rand(n) + x_range[0]\n",
        "    eps = np.random.randn(n) * s(x)\n",
        "    y = (w0 * x * (1. + np.sin(x)) + b0) + eps\n",
        "    y = (y - y.mean()) / y.std()\n",
        "    idx = np.argsort(x)\n",
        "    x = x[idx]\n",
        "    y = y[idx]\n",
        "    return y[:, None], x[:, None]\n",
        "\n",
        "Y, X = load_dataset()"
      ]
    },
    {
      "cell_type": "code",
      "source": [
        "# Go to pytorch world\n",
        "X = torch.tensor(X, dtype=torch.float)\n",
        "Y = torch.tensor(Y, dtype=torch.float)\n",
        "\n",
        "class MaximumLikelihood(nn.Module):\n",
        "    def __init__(self):\n",
        "        super().__init__()\n",
        "        self.out = nn.Sequential(\n",
        "            nn.Linear(1, 20),\n",
        "            nn.ReLU(),\n",
        "            nn.Linear(20, 1)\n",
        "        )\n",
        "    def forward(self, x):\n",
        "        return self.out(x)\n",
        "    \n",
        "epochs = 200\n",
        "m = MaximumLikelihood()\n",
        "optim = torch.optim.Adam(m.parameters(), lr=0.01)\n",
        "\n",
        "for epoch in range(epochs):\n",
        "    optim.zero_grad()\n",
        "    y_pred = m(X)\n",
        "    loss = (0.5 * (y_pred - Y)**2).mean()\n",
        "    loss.backward()\n",
        "    optim.step()"
      ],
      "metadata": {
        "id": "uunRPfOSuyPY"
      },
      "execution_count": 15,
      "outputs": []
    },
    {
      "cell_type": "code",
      "source": [
        "class VI(nn.Module):\n",
        "    def __init__(self):\n",
        "        super().__init__()\n",
        "\n",
        "        self.q_mu = nn.Sequential(\n",
        "            nn.Linear(1, 20),\n",
        "            nn.ReLU(),\n",
        "            nn.Linear(20, 10),\n",
        "            nn.ReLU(),\n",
        "            nn.Linear(10, 1)\n",
        "        )\n",
        "        self.q_log_var = nn.Sequential(\n",
        "            nn.Linear(1, 20),\n",
        "            nn.ReLU(),\n",
        "            nn.Linear(20, 10),\n",
        "            nn.ReLU(),\n",
        "            nn.Linear(10, 1)\n",
        "        )\n",
        "\n",
        "    def reparameterize(self, mu, log_var):\n",
        "        # std can not be negative, thats why we use log variance\n",
        "        sigma = torch.exp(0.5 * log_var) + 1e-5\n",
        "        eps = torch.randn_like(sigma)\n",
        "        return mu + sigma * eps\n",
        "\n",
        "    def forward(self, x):\n",
        "        mu = self.q_mu(x)\n",
        "        log_var = self.q_log_var(x)\n",
        "        return self.reparameterize(mu, log_var), mu, log_var"
      ],
      "metadata": {
        "id": "PSVfAL-Hu4Jo"
      },
      "execution_count": 16,
      "outputs": []
    },
    {
      "cell_type": "code",
      "source": [
        "def ll_gaussian(y, mu, log_var):\n",
        "    sigma = torch.exp(0.5 * log_var)\n",
        "    return -0.5 * torch.log(2 * np.pi * sigma**2) - (1 / (2 * sigma**2))* (y-mu)**2"
      ],
      "metadata": {
        "id": "660fmzbOvV1t"
      },
      "execution_count": 17,
      "outputs": []
    },
    {
      "cell_type": "code",
      "source": [
        "def elbo(y_pred, y, mu, log_var):\n",
        "    # likelihood of observing y given Variational mu and sigma\n",
        "    likelihood = ll_gaussian(y, mu, log_var)\n",
        "    \n",
        "    # prior probability of y_pred\n",
        "    log_prior = ll_gaussian(y_pred, 0, torch.log(torch.tensor(1.)))\n",
        "    \n",
        "    # variational probability of y_pred\n",
        "    log_p_q = ll_gaussian(y_pred, mu, log_var)\n",
        "    \n",
        "    # by taking the mean we approximate the expectation\n",
        "    return (likelihood + log_prior - log_p_q).mean()\n",
        "\n",
        "def det_loss(y_pred, y, mu, log_var):\n",
        "    return -elbo(y_pred, y, mu, log_var)"
      ],
      "metadata": {
        "id": "QmDub-VFvWs9"
      },
      "execution_count": 18,
      "outputs": []
    },
    {
      "cell_type": "code",
      "source": [
        "epochs = 1500\n",
        "\n",
        "m = VI()\n",
        "optim = torch.optim.Adam(m.parameters(), lr=0.005)\n",
        "\n",
        "for epoch in range(epochs):\n",
        "    optim.zero_grad()\n",
        "    y_pred, mu, log_var = m(X)\n",
        "    loss = det_loss(y_pred, Y, mu, log_var)\n",
        "    loss.backward()\n",
        "    optim.step()"
      ],
      "metadata": {
        "id": "duoUIrSjvZRI"
      },
      "execution_count": 19,
      "outputs": []
    },
    {
      "cell_type": "code",
      "source": [
        "with torch.no_grad():\n",
        "    y_pred = torch.cat([m(X)[0] for _ in range(1000)], dim=1)\n",
        "    \n",
        "# Get some quantiles\n",
        "q1, mu, q2 = np.quantile(y_pred, [0.05, 0.5, 0.95], axis=1)\n",
        "\n",
        "plt.figure(figsize=(16, 6))\n",
        "plt.scatter(X, Y)\n",
        "plt.plot(X, mu)\n",
        "plt.fill_between(X.flatten(), q1, q2, alpha=0.2)"
      ],
      "metadata": {
        "colab": {
          "base_uri": "https://localhost:8080/",
          "height": 392
        },
        "id": "RCMGug4Gv08E",
        "outputId": "5d76aa98-c92f-41fc-e921-37273260e4fb"
      },
      "execution_count": 20,
      "outputs": [
        {
          "output_type": "execute_result",
          "data": {
            "text/plain": [
              "<matplotlib.collections.PolyCollection at 0x7f11fa7c4650>"
            ]
          },
          "metadata": {},
          "execution_count": 20
        },
        {
          "output_type": "display_data",
          "data": {
            "text/plain": [
              "<Figure size 1152x432 with 1 Axes>"
            ],
            "image/png": "[encoded data removed]"
          },
          "metadata": {
            "needs_background": "light"
          }
        }
      ]
    },
    {
      "cell_type": "code",
      "source": [
        "#https://www.ritchievink.com/blog/2019/09/16/variational-inference-from-scratch/"
      ],
      "metadata": {
        "id": "zKAN44ZJu-I5"
      },
      "execution_count": null,
      "outputs": []
    }
  ]
}